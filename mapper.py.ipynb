{
 "cells": [
  {
   "cell_type": "code",
   "execution_count": 11,
   "metadata": {},
   "outputs": [],
   "source": [
    "import sys\n",
    " \n",
    "#--- get all lines from stdin ---\n",
    "for line in sys.stdin:\n",
    "    #--- remove leading and trailing whitespace---\n",
    "    line = line.strip()\n",
    "\n",
    "    #--- split the line into words ---\n",
    "    words = line.split()\n",
    "\n",
    "    #--- output tuples [word, 1] in tab-delimited format---\n",
    "    for word in words: \n",
    "        print ('%s\\t%s' % (word, \"1\"))\n",
    "\n"
   ]
  },
  {
   "cell_type": "code",
   "execution_count": null,
   "metadata": {},
   "outputs": [],
   "source": []
  }
 ],
 "metadata": {
  "kernelspec": {
   "display_name": "Python 3",
   "language": "python",
   "name": "python3"
  },
  "language_info": {
   "codemirror_mode": {
    "name": "ipython",
    "version": 3
   },
   "file_extension": ".py",
   "mimetype": "text/x-python",
   "name": "python",
   "nbconvert_exporter": "python",
   "pygments_lexer": "ipython3",
   "version": "3.7.4"
  }
 },
 "nbformat": 4,
 "nbformat_minor": 2
}
