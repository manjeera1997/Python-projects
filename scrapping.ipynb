{
 "cells": [
  {
   "cell_type": "code",
   "execution_count": 1,
   "metadata": {},
   "outputs": [],
   "source": [
    "url = \"https://www.ndtv.com/coronavirus/india-covid-19-tracker\"\n"
   ]
  },
  {
   "cell_type": "code",
   "execution_count": 2,
   "metadata": {},
   "outputs": [],
   "source": [
    "import requests  #import requests library"
   ]
  },
  {
   "cell_type": "code",
   "execution_count": 3,
   "metadata": {},
   "outputs": [],
   "source": [
    "page = requests.get(url)"
   ]
  },
  {
   "cell_type": "code",
   "execution_count": 4,
   "metadata": {},
   "outputs": [
    {
     "data": {
      "text/plain": [
       "<Response [200]>"
      ]
     },
     "execution_count": 4,
     "metadata": {},
     "output_type": "execute_result"
    }
   ],
   "source": [
    "page"
   ]
  },
  {
   "cell_type": "code",
   "execution_count": 5,
   "metadata": {},
   "outputs": [],
   "source": [
    "from bs4 import BeautifulSoup"
   ]
  },
  {
   "cell_type": "code",
   "execution_count": 6,
   "metadata": {},
   "outputs": [],
   "source": [
    "soup = BeautifulSoup(page.text)"
   ]
  },
  {
   "cell_type": "code",
   "execution_count": 8,
   "metadata": {},
   "outputs": [
    {
     "data": {
      "text/plain": [
       "<title>Coronavirus (Covid-19) Tracker: Find India’s day wise Cases, Deaths and Recovered – NDTV.com</title>"
      ]
     },
     "execution_count": 8,
     "metadata": {},
     "output_type": "execute_result"
    }
   ],
   "source": [
    "soup.title"
   ]
  },
  {
   "cell_type": "code",
   "execution_count": 9,
   "metadata": {},
   "outputs": [
    {
     "data": {
      "text/plain": [
       "<table class=\"rr-tbl\"><thead class=\"table-head\"><tr class=\"table-row\"><th class=\"table-cell\">\n",
       "          State\n",
       "    </th><th class=\"table-cell c\">\n",
       "          Cases\n",
       "    </th><th class=\"table-cell a\">\n",
       "          Active\n",
       "    </th><th class=\"table-cell r\">\n",
       "          Recovered\n",
       "    </th><th class=\"table-cell d\">\n",
       "          Deaths\n",
       "    </th></tr></thead><tbody class=\"table-body\"><tr class=\"table-row\"><td class=\"table-cell\"><input class=\"ip\" id=\"st1\" type=\"checkbox\"/><label for=\"st1\">Maharashtra</label><div class=\"ddiv\"><div class=\"dist-list\"><span>District</span><span>Cases</span></div><div class=\"dist-list\"><span>Akola</span><span>757</span></div><div class=\"dist-list\"><span>Aurangabad</span><span>1974</span></div><div class=\"dist-list\"><span>Dhule</span><span>228</span></div><div class=\"dist-list\"><span>Jalgaon</span><span>1039</span></div><div class=\"dist-list\"><span>Mumbai</span><span>45478</span></div><div class=\"dist-list\"><span>Mumbai Suburban</span><span>5363</span></div><div class=\"dist-list\"><span>Nagpur</span><span>692</span></div><div class=\"dist-list\"><span>Nashik</span><span>1575</span></div><div class=\"dist-list\"><span>Palghar</span><span>1421</span></div><div class=\"dist-list\"><span>Pune</span><span>9920</span></div><div class=\"dist-list\"><span>Satara</span><span>629</span></div><div class=\"dist-list\"><span>Solapur</span><span>1291</span></div><div class=\"dist-list\"><span>Thane</span><span>13660</span></div><div class=\"dist-list\"><span>Yavatmal</span><span>150</span></div><div class=\"dist-list\"><span>Ahmednagar</span><span>190</span></div><div class=\"dist-list\"><span>Amravati</span><span>291</span></div><div class=\"dist-list\"><span>Beed</span><span>54</span></div><div class=\"dist-list\"><span>Bhandara</span><span>41</span></div><div class=\"dist-list\"><span>Buldhana</span><span>88</span></div><div class=\"dist-list\"><span>Chandrapur</span><span>32</span></div><div class=\"dist-list\"><span>Hingoli</span><span>208</span></div><div class=\"dist-list\"><span>Jalna</span><span>201</span></div><div class=\"dist-list\"><span>Kolhapur</span><span>646</span></div><div class=\"dist-list\"><span>Latur</span><span>139</span></div><div class=\"dist-list\"><span>Nanded</span><span>176</span></div><div class=\"dist-list\"><span>Nandurbar</span><span>42</span></div><div class=\"dist-list\"><span>Parbhani</span><span>78</span></div><div class=\"dist-list\"><span>Raigad</span><span>1462</span></div><div class=\"dist-list\"><span>Ratnagiri</span><span>350</span></div><div class=\"dist-list\"><span>Sangli</span><span>145</span></div><div class=\"dist-list\"><span>Gadchiroli</span><span>42</span></div><div class=\"dist-list\"><span>gondia</span><span>69</span></div><div class=\"dist-list\"><span>Osmanabad</span><span>125</span></div><div class=\"dist-list\"><span>Sindhudurg</span><span>114</span></div><div class=\"dist-list\"><span>Wardha</span><span>11</span></div><div class=\"dist-list\"><span>Washim</span><span>13</span></div></div></td><td class=\"table-cell\"><p class=\"mid-wrap\">1683775 <span class=\"data-up\">5369</span></p></td><td class=\"table-cell\"><p class=\"mid-wrap\">125672 <span class=\"data-up\">1530</span></p></td><td class=\"table-cell\"><p class=\"mid-wrap\">1514079 <span class=\"data-down-up\">3726</span></p></td><td class=\"table-cell\"><p class=\"mid-wrap\">44024 <span class=\"data-up\">113</span></p></td></tr><tr class=\"table-row\"><td class=\"table-cell\"><input class=\"ip\" id=\"st2\" type=\"checkbox\"/><label for=\"st2\">Andhra Pradesh</label><div class=\"ddiv\"><div class=\"dist-list\"><span>District</span><span>Cases</span></div><div class=\"dist-list\"><span>Chittoor</span><span>319</span></div><div class=\"dist-list\"><span>Guntur</span><span>511</span></div><div class=\"dist-list\"><span>Krishna</span><span>557</span></div><div class=\"dist-list\"><span>Kurnool</span><span>795</span></div><div class=\"dist-list\"><span>Sri Potti Sriramulu Nell*</span><span>296</span></div><div class=\"dist-list\"><span>Anantapur</span><span>428</span></div><div class=\"dist-list\"><span>East Godavari</span><span>356</span></div><div class=\"dist-list\"><span>Prakasam</span><span>104</span></div><div class=\"dist-list\"><span>Srikakulam</span><span>183</span></div><div class=\"dist-list\"><span>Visakhapatnam</span><span>103</span></div><div class=\"dist-list\"><span>West Godavari</span><span>199</span></div><div class=\"dist-list\"><span>Y.S.R.</span><span>205</span></div><div class=\"dist-list\"><span>Vizianagaram</span><span>23</span></div></div></td><td class=\"table-cell\"><p class=\"mid-wrap\">825966 <span class=\"data-up\">2618</span></p></td><td class=\"table-cell\"><p class=\"mid-wrap\">23668 </p></td><td class=\"table-cell\"><p class=\"mid-wrap\">795592 <span class=\"data-down-up\">3509</span></p></td><td class=\"table-cell\"><p class=\"mid-wrap\">6706 <span class=\"data-up\">16</span></p></td></tr><tr class=\"table-row\"><td class=\"table-cell\"><input class=\"ip\" id=\"st3\" type=\"checkbox\"/><label for=\"st3\">Karnataka</label><div class=\"ddiv\"><div class=\"dist-list\"><span>District</span><span>Cases</span></div><div class=\"dist-list\"><span>Bengaluru Rural</span><span>40</span></div><div class=\"dist-list\"><span>Bengaluru Urban</span><span>529</span></div><div class=\"dist-list\"><span>Mysuru</span><span>107</span></div><div class=\"dist-list\"><span>Bagalkote</span><span>103</span></div><div class=\"dist-list\"><span>Ballari</span><span>60</span></div><div class=\"dist-list\"><span>Belagavi</span><span>337</span></div><div class=\"dist-list\"><span>Bidar</span><span>219</span></div><div class=\"dist-list\"><span>Chikkaballapura</span><span>149</span></div><div class=\"dist-list\"><span>Dakshina Kannada</span><span>179</span></div><div class=\"dist-list\"><span>Dharwad</span><span>61</span></div><div class=\"dist-list\"><span>Gadag</span><span>45</span></div><div class=\"dist-list\"><span>Kalaburagi</span><span>669</span></div><div class=\"dist-list\"><span>Mandya</span><span>346</span></div><div class=\"dist-list\"><span>Tumakuru</span><span>36</span></div><div class=\"dist-list\"><span>Uttara Kannada</span><span>95</span></div><div class=\"dist-list\"><span>Vijayapura</span><span>201</span></div><div class=\"dist-list\"><span>Chamarajanagara</span><span>0</span></div><div class=\"dist-list\"><span>Chikkamagaluru</span><span>19</span></div><div class=\"dist-list\"><span>Chitradurga</span><span>14</span></div><div class=\"dist-list\"><span>Davangere</span><span>204</span></div><div class=\"dist-list\"><span>Hassan</span><span>205</span></div><div class=\"dist-list\"><span>Haveri</span><span>24</span></div><div class=\"dist-list\"><span>Kodagu</span><span>4</span></div><div class=\"dist-list\"><span>Kolar</span><span>29</span></div><div class=\"dist-list\"><span>Koppal</span><span>5</span></div><div class=\"dist-list\"><span>Raichur</span><span>369</span></div><div class=\"dist-list\"><span>Ramanagara</span><span>3</span></div><div class=\"dist-list\"><span>Shivamogga</span><span>67</span></div><div class=\"dist-list\"><span>Udupi</span><span>1176</span></div><div class=\"dist-list\"><span>Yadgir</span><span>538</span></div></div></td><td class=\"table-cell\"><p class=\"mid-wrap\">827064 <span class=\"data-up\">3652</span></p></td><td class=\"table-cell\"><p class=\"mid-wrap\">50611 </p></td><td class=\"table-cell\"><p class=\"mid-wrap\">765261 <span class=\"data-down-up\">8053</span></p></td><td class=\"table-cell\"><p class=\"mid-wrap\">11192 <span class=\"data-up\">24</span></p></td></tr><tr class=\"table-row\"><td class=\"table-cell\"><input class=\"ip\" id=\"st4\" type=\"checkbox\"/><label for=\"st4\">Goa</label><div class=\"ddiv\"><div class=\"dist-list\"><span>District</span><span>Cases</span></div><div class=\"dist-list\"><span>North Goa</span><span>57</span></div><div class=\"dist-list\"><span>South Goa</span><span>69</span></div></div></td><td class=\"table-cell\"><p class=\"mid-wrap\">43768 <span class=\"data-up\">142</span></p></td><td class=\"table-cell\"><p class=\"mid-wrap\">2244 </p></td><td class=\"table-cell\"><p class=\"mid-wrap\">40915 <span class=\"data-down-up\">237</span></p></td><td class=\"table-cell\"><p class=\"mid-wrap\">609 <span class=\"data-up\">5</span></p></td></tr><tr class=\"table-row\"><td class=\"table-cell\"><input class=\"ip\" id=\"st5\" type=\"checkbox\"/><label for=\"st5\">Tamil Nadu</label><div class=\"ddiv\"><div class=\"dist-list\"><span>District</span><span>Cases</span></div><div class=\"dist-list\"><span>Chengalpattu</span><span>1314</span></div><div class=\"dist-list\"><span>Chennai</span><span>23324</span></div><div class=\"dist-list\"><span>Kanchipuram</span><span>503</span></div><div class=\"dist-list\"><span>Madurai</span><span>322</span></div><div class=\"dist-list\"><span>Namakkal</span><span>83</span></div><div class=\"dist-list\"><span>Ranipet</span><span>133</span></div><div class=\"dist-list\"><span>Thanjavur</span><span>130</span></div><div class=\"dist-list\"><span>Thiruvallur</span><span>774</span></div><div class=\"dist-list\"><span>Thiruvarur</span><span>67</span></div><div class=\"dist-list\"><span>Tiruppur</span><span>116</span></div><div class=\"dist-list\"><span>Vellore</span><span>71</span></div><div class=\"dist-list\"><span>Virudhunagar</span><span>185</span></div><div class=\"dist-list\"><span>Ariyalur</span><span>444</span></div><div class=\"dist-list\"><span>Coimbatore</span><span>188</span></div><div class=\"dist-list\"><span>Cuddalore</span><span>477</span></div><div class=\"dist-list\"><span>Dharmapuri</span><span>15</span></div><div class=\"dist-list\"><span>Dindigul</span><span>175</span></div><div class=\"dist-list\"><span>Erode</span><span>75</span></div><div class=\"dist-list\"><span>Kallakurichi</span><span>324</span></div><div class=\"dist-list\"><span>Kanniyakumari</span><span>110</span></div><div class=\"dist-list\"><span>Karur</span><span>88</span></div><div class=\"dist-list\"><span>Nagapattinam</span><span>99</span></div><div class=\"dist-list\"><span>Perambalur</span><span>133</span></div><div class=\"dist-list\"><span>Pudukkottai</span><span>53</span></div><div class=\"dist-list\"><span>Ramanathapuram</span><span>119</span></div><div class=\"dist-list\"><span>Salem</span><span>258</span></div><div class=\"dist-list\"><span>Sivaganga</span><span>46</span></div><div class=\"dist-list\"><span>Tenkasi</span><span>103</span></div><div class=\"dist-list\"><span>The Nilgiris</span><span>17</span></div><div class=\"dist-list\"><span>Theni</span><span>129</span></div><div class=\"dist-list\"><span>Tiruchirappalli</span><span>119</span></div><div class=\"dist-list\"><span>Tirunelveli</span><span>433</span></div><div class=\"dist-list\"><span>Tirupathur</span><span>45</span></div><div class=\"dist-list\"><span>Tiruvannamalai</span><span>496</span></div><div class=\"dist-list\"><span>Tuticorin</span><span>333</span></div><div class=\"dist-list\"><span>Villupuram</span><span>509</span></div><div class=\"dist-list\"><span>Krishnagiri</span><span>43</span></div></div></td><td class=\"table-cell\"><p class=\"mid-wrap\">727026 <span class=\"data-up\">2504</span></p></td><td class=\"table-cell\"><p class=\"mid-wrap\">20994 </p></td><td class=\"table-cell\"><p class=\"mid-wrap\">694880 <span class=\"data-down-up\">3644</span></p></td><td class=\"table-cell\"><p class=\"mid-wrap\">11152 <span class=\"data-up\">30</span></p></td></tr><tr class=\"table-row\"><td class=\"table-cell\"><input class=\"ip\" id=\"st6\" type=\"checkbox\"/><label for=\"st6\">Kerala</label><div class=\"ddiv\"><div class=\"dist-list\"><span>District</span><span>Cases</span></div><div class=\"dist-list\"><span>Kannur</span><span>357</span></div><div class=\"dist-list\"><span>Kottayam</span><span>73</span></div><div class=\"dist-list\"><span>Alappuzha</span><span>76</span></div><div class=\"dist-list\"><span>Idukki</span><span>40</span></div><div class=\"dist-list\"><span>Kasaragod</span><span>333</span></div><div class=\"dist-list\"><span>Kollam</span><span>118</span></div><div class=\"dist-list\"><span>Kozhikode</span><span>90</span></div><div class=\"dist-list\"><span>Malappuram</span><span>119</span></div><div class=\"dist-list\"><span>Palakkad</span><span>224</span></div><div class=\"dist-list\"><span>Pathanamthitta</span><span>98</span></div><div class=\"dist-list\"><span>Thiruvananthapuram</span><span>104</span></div><div class=\"dist-list\"><span>Thrissur</span><span>106</span></div><div class=\"dist-list\"><span>Ernakulam</span><span>60</span></div><div class=\"dist-list\"><span>Wayanad</span><span>36</span></div></div></td><td class=\"table-cell\"><p class=\"mid-wrap\">440130 <span class=\"data-up\">7025</span></p></td><td class=\"table-cell\"><p class=\"mid-wrap\">89783 </p></td><td class=\"table-cell\"><p class=\"mid-wrap\">348835 <span class=\"data-down-up\">8511</span></p></td><td class=\"table-cell\"><p class=\"mid-wrap\">1512 <span class=\"data-up\">28</span></p></td></tr><tr class=\"table-row\"><td class=\"table-cell\"><input class=\"ip\" id=\"st7\" type=\"checkbox\"/><label for=\"st7\">Chhattisgarh</label><div class=\"ddiv\"><div class=\"dist-list\"><span>District</span><span>Cases</span></div><div class=\"dist-list\"><span>Raipur</span><span>46</span></div><div class=\"dist-list\"><span>Korba</span><span>100</span></div><div class=\"dist-list\"><span>Balod</span><span>41</span></div><div class=\"dist-list\"><span>Baloda Bazar</span><span>85</span></div><div class=\"dist-list\"><span>Balrampur</span><span>17</span></div><div class=\"dist-list\"><span>Bastar</span><span>2</span></div><div class=\"dist-list\"><span>Bemetara</span><span>21</span></div><div class=\"dist-list\"><span>Bijapur</span><span>2</span></div><div class=\"dist-list\"><span>Bilaspur</span><span>100</span></div><div class=\"dist-list\"><span>Dantewada</span><span>0</span></div><div class=\"dist-list\"><span>Dhamtari</span><span>6</span></div><div class=\"dist-list\"><span>Durg</span><span>31</span></div><div class=\"dist-list\"><span>Gariyaband</span><span>10</span></div><div class=\"dist-list\"><span>Janjgir-Champa</span><span>56</span></div><div class=\"dist-list\"><span>Jashpur</span><span>77</span></div><div class=\"dist-list\"><span>Kabirdham</span><span>52</span></div><div class=\"dist-list\"><span>Kanker</span><span>19</span></div><div class=\"dist-list\"><span>Kondagaon</span><span>0</span></div><div class=\"dist-list\"><span>Korea</span><span>39</span></div><div class=\"dist-list\"><span>Mahasamund</span><span>54</span></div><div class=\"dist-list\"><span>Mungeli</span><span>87</span></div><div class=\"dist-list\"><span>Narayanpur</span><span>0</span></div><div class=\"dist-list\"><span>Raigarh</span><span>47</span></div><div class=\"dist-list\"><span>Rajnandgaon</span><span>52</span></div><div class=\"dist-list\"><span>Sukma</span><span>0</span></div><div class=\"dist-list\"><span>Surajpur</span><span>9</span></div><div class=\"dist-list\"><span>Surguja</span><span>14</span></div></div></td><td class=\"table-cell\"><p class=\"mid-wrap\">188813 <span class=\"data-up\">1543</span></p></td><td class=\"table-cell\"><p class=\"mid-wrap\">22126 <span class=\"data-up\">36</span></p></td><td class=\"table-cell\"><p class=\"mid-wrap\">164537 <span class=\"data-down-up\">1458</span></p></td><td class=\"table-cell\"><p class=\"mid-wrap\">2150 <span class=\"data-up\">49</span></p></td></tr><tr class=\"table-row\"><td class=\"table-cell\"><input class=\"ip\" id=\"st8\" type=\"checkbox\"/><label for=\"st8\">Telangana</label><div class=\"ddiv\"><div class=\"dist-list\"><span>District</span><span>Cases</span></div><div class=\"dist-list\"><span>Hyderabad</span><span>2475</span></div><div class=\"dist-list\"><span>MedchalMalkajgiri</span><span>75</span></div><div class=\"dist-list\"><span>Ranga Reddy</span><span>183</span></div><div class=\"dist-list\"><span>Suryapet</span><span>87</span></div><div class=\"dist-list\"><span>Vikarabad</span><span>40</span></div><div class=\"dist-list\"><span>Warangal Urban</span><span>32</span></div><div class=\"dist-list\"><span>Adilabad</span><span>22</span></div><div class=\"dist-list\"><span>Jagitial</span><span>77</span></div><div class=\"dist-list\"><span>Jangoan</span><span>8</span></div><div class=\"dist-list\"><span>Jayashankar Bhupalapally</span><span>9</span></div><div class=\"dist-list\"><span>Jogulamba Gadwal</span><span>40</span></div><div class=\"dist-list\"><span>Kamareddy</span><span>11</span></div><div class=\"dist-list\"><span>Karimnagar</span><span>17</span></div><div class=\"dist-list\"><span>Khammam</span><span>26</span></div><div class=\"dist-list\"><span>Kumuram Bheem Asifabad</span><span>8</span></div><div class=\"dist-list\"><span>Mahabubnagar</span><span>30</span></div><div class=\"dist-list\"><span>Mancherial</span><span>43</span></div><div class=\"dist-list\"><span>Medak</span><span>11</span></div><div class=\"dist-list\"><span>Nalgonda</span><span>33</span></div><div class=\"dist-list\"><span>Narayanpet</span><span>3</span></div><div class=\"dist-list\"><span>Nirmal</span><span>21</span></div><div class=\"dist-list\"><span>Nizamabad</span><span>76</span></div><div class=\"dist-list\"><span>RajannaSircilla</span><span>16</span></div><div class=\"dist-list\"><span>Sangareddy</span><span>26</span></div><div class=\"dist-list\"><span>Bhadradri Kothagudem</span><span>5</span></div><div class=\"dist-list\"><span>Mahabubabad</span><span>10</span></div><div class=\"dist-list\"><span>Mulugu</span><span>3</span></div><div class=\"dist-list\"><span>Nagarkurnool</span><span>8</span></div><div class=\"dist-list\"><span>Peddapalli</span><span>5</span></div><div class=\"dist-list\"><span>Siddipet</span><span>7</span></div><div class=\"dist-list\"><span>Wanaparthy</span><span>1</span></div><div class=\"dist-list\"><span>Warangal Rural</span><span>4</span></div><div class=\"dist-list\"><span>YadadriBhuvanagiri</span><span>40</span></div></div></td><td class=\"table-cell\"><p class=\"mid-wrap\">240970 <span class=\"data-up\">922</span></p></td><td class=\"table-cell\"><p class=\"mid-wrap\">17630 </p></td><td class=\"table-cell\"><p class=\"mid-wrap\">221992 <span class=\"data-down-up\">1526</span></p></td><td class=\"table-cell\"><p class=\"mid-wrap\">1348 <span class=\"data-up\">7</span></p></td></tr><tr class=\"table-row\"><td class=\"table-cell\"><input class=\"ip\" id=\"st9\" type=\"checkbox\"/><label for=\"st9\">Odisha</label><div class=\"ddiv\"><div class=\"dist-list\"><span>District</span><span>Cases</span></div><div class=\"dist-list\"><span>Baleshwar</span><span>190</span></div><div class=\"dist-list\"><span>Bhadrak</span><span>137</span></div><div class=\"dist-list\"><span>Jajapur</span><span>322</span></div><div class=\"dist-list\"><span>Dhenkanal</span><span>36</span></div><div class=\"dist-list\"><span>Kalahandi</span><span>33</span></div><div class=\"dist-list\"><span>Kendrapara</span><span>164</span></div><div class=\"dist-list\"><span>Khordha</span><span>238</span></div><div class=\"dist-list\"><span>Koraput</span><span>16</span></div><div class=\"dist-list\"><span>Sundargarh</span><span>102</span></div><div class=\"dist-list\"><span>Anugul</span><span>26</span></div><div class=\"dist-list\"><span>Balangir</span><span>129</span></div><div class=\"dist-list\"><span>Bargarh</span><span>16</span></div><div class=\"dist-list\"><span>Boudh</span><span>34</span></div><div class=\"dist-list\"><span>Cuttack</span><span>155</span></div><div class=\"dist-list\"><span>Deogarh</span><span>33</span></div><div class=\"dist-list\"><span>Gajapati</span><span>61</span></div><div class=\"dist-list\"><span>Ganjam</span><span>581</span></div><div class=\"dist-list\"><span>Jagatsinghapur</span><span>91</span></div><div class=\"dist-list\"><span>Jharsuguda</span><span>8</span></div><div class=\"dist-list\"><span>Kandhamal</span><span>28</span></div><div class=\"dist-list\"><span>Kendujhar</span><span>34</span></div><div class=\"dist-list\"><span>Malkangiri</span><span>20</span></div><div class=\"dist-list\"><span>Mayurbhanj</span><span>73</span></div><div class=\"dist-list\"><span>Nabarangpur</span><span>2</span></div><div class=\"dist-list\"><span>Nayagarh</span><span>86</span></div><div class=\"dist-list\"><span>Nuapada</span><span>69</span></div><div class=\"dist-list\"><span>Puri</span><span>103</span></div><div class=\"dist-list\"><span>Rayagada</span><span>2</span></div><div class=\"dist-list\"><span>Sambalpur</span><span>16</span></div><div class=\"dist-list\"><span>Sonepur</span><span>29</span></div></div></td><td class=\"table-cell\"><p class=\"mid-wrap\">291825 <span class=\"data-up\">1709</span></p></td><td class=\"table-cell\"><p class=\"mid-wrap\">12930 </p></td><td class=\"table-cell\"><p class=\"mid-wrap\">277564 <span class=\"data-down-up\">1815</span></p></td><td class=\"table-cell\"><p class=\"mid-wrap\">1331 <span class=\"data-up\">11</span></p></td></tr><tr class=\"table-row\"><td class=\"table-cell\"><input class=\"ip\" id=\"st10\" type=\"checkbox\"/><label for=\"st10\">Madhya Pradesh</label><div class=\"ddiv\"><div class=\"dist-list\"><span>District</span><span>Cases</span></div><div class=\"dist-list\"><span>Barwani</span><span>60</span></div><div class=\"dist-list\"><span>Bhopal</span><span>1880</span></div><div class=\"dist-list\"><span>Dewas</span><span>140</span></div><div class=\"dist-list\"><span>Dhar</span><span>132</span></div><div class=\"dist-list\"><span>East Nimar</span><span>266</span></div><div class=\"dist-list\"><span>Gwalior</span><span>211</span></div><div class=\"dist-list\"><span>Indore</span><span>3839</span></div><div class=\"dist-list\"><span>Jabalpur</span><span>276</span></div><div class=\"dist-list\"><span>Ujjain</span><span>799</span></div><div class=\"dist-list\"><span>Agar Malwa</span><span>15</span></div><div class=\"dist-list\"><span>Alirajpur</span><span>3</span></div><div class=\"dist-list\"><span>Betul</span><span>35</span></div><div class=\"dist-list\"><span>Burhanpur</span><span>351</span></div><div class=\"dist-list\"><span>Chhindwara</span><span>16</span></div><div class=\"dist-list\"><span>Dindori</span><span>29</span></div><div class=\"dist-list\"><span>Harda</span><span>4</span></div><div class=\"dist-list\"><span>Hoshangabad</span><span>37</span></div><div class=\"dist-list\"><span>Khargone</span><span>196</span></div><div class=\"dist-list\"><span>Mandsaur</span><span>112</span></div><div class=\"dist-list\"><span>Morena</span><span>109</span></div><div class=\"dist-list\"><span>Raisen</span><span>71</span></div><div class=\"dist-list\"><span>Ratlam</span><span>51</span></div><div class=\"dist-list\"><span>Sagar</span><span>228</span></div><div class=\"dist-list\"><span>Shajapur</span><span>39</span></div><div class=\"dist-list\"><span>Shandol</span><span>14</span></div><div class=\"dist-list\"><span>Sheopur</span><span>26</span></div><div class=\"dist-list\"><span>Tikamgarh</span><span>18</span></div><div class=\"dist-list\"><span>Vidisha</span><span>37</span></div><div class=\"dist-list\"><span>Anuppur</span><span>22</span></div><div class=\"dist-list\"><span>Ashoknagar</span><span>13</span></div><div class=\"dist-list\"><span>Balaghat</span><span>9</span></div><div class=\"dist-list\"><span>Bhind</span><span>87</span></div><div class=\"dist-list\"><span>Chhatarpur</span><span>35</span></div><div class=\"dist-list\"><span>Damoh</span><span>26</span></div><div class=\"dist-list\"><span>Datia</span><span>12</span></div><div class=\"dist-list\"><span>Guna</span><span>8</span></div><div class=\"dist-list\"><span>Jhabua</span><span>14</span></div><div class=\"dist-list\"><span>Katni</span><span>3</span></div><div class=\"dist-list\"><span>Mandla</span><span>15</span></div><div class=\"dist-list\"><span>Narsinghpur</span><span>17</span></div><div class=\"dist-list\"><span>Neemuch</span><span>319</span></div><div class=\"dist-list\"><span>Niwari</span><span>0</span></div><div class=\"dist-list\"><span>Panna</span><span>20</span></div><div class=\"dist-list\"><span>Rajgarh</span><span>31</span></div><div class=\"dist-list\"><span>Rewa</span><span>39</span></div><div class=\"dist-list\"><span>Satna</span><span>24</span></div><div class=\"dist-list\"><span>Sehore</span><span>12</span></div><div class=\"dist-list\"><span>Seoni</span><span>2</span></div><div class=\"dist-list\"><span>Shivpuri</span><span>15</span></div><div class=\"dist-list\"><span>Sidhi</span><span>17</span></div><div class=\"dist-list\"><span>Singrauli</span><span>13</span></div><div class=\"dist-list\"><span>Umaria</span><span>10</span></div></div></td><td class=\"table-cell\"><p class=\"mid-wrap\">172082 <span class=\"data-up\">723</span></p></td><td class=\"table-cell\"><p class=\"mid-wrap\">8538 </p></td><td class=\"table-cell\"><p class=\"mid-wrap\">160586 <span class=\"data-down-up\">1107</span></p></td><td class=\"table-cell\"><p class=\"mid-wrap\">2958 <span class=\"data-up\">7</span></p></td></tr><tr class=\"table-row\"><td class=\"table-cell\"><input class=\"ip\" id=\"st11\" type=\"checkbox\"/><label for=\"st11\">Gujarat</label><div class=\"ddiv\"><div class=\"dist-list\"><span>District</span><span>Cases</span></div><div class=\"dist-list\"><span>Ahmadabad</span><span>17125</span></div><div class=\"dist-list\"><span>Anand</span><span>107</span></div><div class=\"dist-list\"><span>Arvalli</span><span>134</span></div><div class=\"dist-list\"><span>Banas Kantha</span><span>147</span></div><div class=\"dist-list\"><span>Bhavnagar</span><span>146</span></div><div class=\"dist-list\"><span>Gandhinagar</span><span>410</span></div><div class=\"dist-list\"><span>PanchMahals</span><span>107</span></div><div class=\"dist-list\"><span>Surat</span><span>2311</span></div><div class=\"dist-list\"><span>Vadodara</span><span>1555</span></div><div class=\"dist-list\"><span>Bharuch</span><span>56</span></div><div class=\"dist-list\"><span>Botad</span><span>55</span></div><div class=\"dist-list\"><span>Chhotaudepur</span><span>37</span></div><div class=\"dist-list\"><span>Dang</span><span>5</span></div><div class=\"dist-list\"><span>Dohad</span><span>43</span></div><div class=\"dist-list\"><span>GirSomnath</span><span>45</span></div><div class=\"dist-list\"><span>Jamnagar</span><span>63</span></div><div class=\"dist-list\"><span>Kachchh</span><span>99</span></div><div class=\"dist-list\"><span>Kheda</span><span>98</span></div><div class=\"dist-list\"><span>Mahesana</span><span>159</span></div><div class=\"dist-list\"><span>Mahisagar</span><span>125</span></div><div class=\"dist-list\"><span>Narmada</span><span>25</span></div><div class=\"dist-list\"><span>Naysari</span><span>35</span></div><div class=\"dist-list\"><span>Patan</span><span>105</span></div><div class=\"dist-list\"><span>Rajkot</span><span>135</span></div><div class=\"dist-list\"><span>SabarKantha</span><span>101</span></div><div class=\"dist-list\"><span>Surendranagar</span><span>55</span></div><div class=\"dist-list\"><span>Tapi</span><span>6</span></div><div class=\"dist-list\"><span>Valsad</span><span>47</span></div><div class=\"dist-list\"><span>Amreli</span><span>16</span></div><div class=\"dist-list\"><span>DevbhumiDwarka</span><span>22</span></div><div class=\"dist-list\"><span>Junagadh</span><span>31</span></div><div class=\"dist-list\"><span>Morbi</span><span>4</span></div><div class=\"dist-list\"><span>Porbandar</span><span>11</span></div></div></td><td class=\"table-cell\"><p class=\"mid-wrap\">173642 <span class=\"data-up\">860</span></p></td><td class=\"table-cell\"><p class=\"mid-wrap\">12811 </p></td><td class=\"table-cell\"><p class=\"mid-wrap\">157110 <span class=\"data-down-up\">1128</span></p></td><td class=\"table-cell\"><p class=\"mid-wrap\">3721 <span class=\"data-up\">5</span></p></td></tr><tr class=\"table-row\"><td class=\"table-cell\"><input class=\"ip\" id=\"st12\" type=\"checkbox\"/><label for=\"st12\">Rajasthan</label><div class=\"ddiv\"><div class=\"dist-list\"><span>District</span><span>Cases</span></div><div class=\"dist-list\"><span>Ajmer</span><span>379</span></div><div class=\"dist-list\"><span>Banswara</span><span>91</span></div><div class=\"dist-list\"><span>Bharatpur</span><span>563</span></div><div class=\"dist-list\"><span>Jaipur</span><span>2177</span></div><div class=\"dist-list\"><span>Jhalawar</span><span>329</span></div><div class=\"dist-list\"><span>Jodhpur</span><span>1748</span></div><div class=\"dist-list\"><span>Kota</span><span>503</span></div><div class=\"dist-list\"><span>Nagaur</span><span>500</span></div><div class=\"dist-list\"><span>Alwar</span><span>90</span></div><div class=\"dist-list\"><span>Barmer</span><span>34</span></div><div class=\"dist-list\"><span>Bhilwara</span><span>250</span></div><div class=\"dist-list\"><span>Bikaner</span><span>112</span></div><div class=\"dist-list\"><span>Chittorgarh</span><span>188</span></div><div class=\"dist-list\"><span>Churu</span><span>81</span></div><div class=\"dist-list\"><span>Dausa</span><span>61</span></div><div class=\"dist-list\"><span>Dholpur</span><span>60</span></div><div class=\"dist-list\"><span>Dungarpur</span><span>374</span></div><div class=\"dist-list\"><span>Hanumangarh</span><span>31</span></div><div class=\"dist-list\"><span>Jaisalmer</span><span>53</span></div><div class=\"dist-list\"><span>Jhunjhunu</span><span>64</span></div><div class=\"dist-list\"><span>Karauli</span><span>17</span></div><div class=\"dist-list\"><span>Pali</span><span>352</span></div><div class=\"dist-list\"><span>Rajsamand</span><span>140</span></div><div class=\"dist-list\"><span>SawaiMadhopur</span><span>26</span></div><div class=\"dist-list\"><span>Sikar</span><span>231</span></div><div class=\"dist-list\"><span>Tonk</span><span>171</span></div><div class=\"dist-list\"><span>Udaipur</span><span>724</span></div><div class=\"dist-list\"><span>Baran</span><span>59</span></div><div class=\"dist-list\"><span>Bundi</span><span>5</span></div><div class=\"dist-list\"><span>Ganganagar</span><span>8</span></div><div class=\"dist-list\"><span>Jalore</span><span>164</span></div><div class=\"dist-list\"><span>Pratapgarh</span><span>14</span></div><div class=\"dist-list\"><span>Sirohi</span><span>130</span></div></div></td><td class=\"table-cell\"><p class=\"mid-wrap\">198747 <span class=\"data-up\">1754</span></p></td><td class=\"table-cell\"><p class=\"mid-wrap\">15255 <span class=\"data-up\">153</span></p></td><td class=\"table-cell\"><p class=\"mid-wrap\">181575 <span class=\"data-down-up\">1591</span></p></td><td class=\"table-cell\"><p class=\"mid-wrap\">1917 <span class=\"data-up\">10</span></p></td></tr><tr class=\"table-row\"><td class=\"table-cell\"><input class=\"ip\" id=\"st13\" type=\"checkbox\"/><label for=\"st13\">Haryana</label><div class=\"ddiv\"><div class=\"dist-list\"><span>District</span><span>Cases</span></div><div class=\"dist-list\"><span>Faridabad</span><span>867</span></div><div class=\"dist-list\"><span>Sonipat</span><span>404</span></div><div class=\"dist-list\"><span>Ambala</span><span>93</span></div><div class=\"dist-list\"><span>Bhiwani</span><span>60</span></div><div class=\"dist-list\"><span>CharkiDadri</span><span>43</span></div><div class=\"dist-list\"><span>Fatehabad</span><span>38</span></div><div class=\"dist-list\"><span>Gurugram</span><span>2950</span></div><div class=\"dist-list\"><span>Hisar</span><span>98</span></div><div class=\"dist-list\"><span>Jhajjar</span><span>114</span></div><div class=\"dist-list\"><span>Jind</span><span>38</span></div><div class=\"dist-list\"><span>Kaithal</span><span>48</span></div><div class=\"dist-list\"><span>Karnal</span><span>104</span></div><div class=\"dist-list\"><span>Kurukshetra</span><span>55</span></div><div class=\"dist-list\"><span>Nuh</span><span>68</span></div><div class=\"dist-list\"><span>Palwal</span><span>120</span></div><div class=\"dist-list\"><span>Panchkula</span><span>39</span></div><div class=\"dist-list\"><span>Panipat</span><span>78</span></div><div class=\"dist-list\"><span>Rohtak</span><span>145</span></div><div class=\"dist-list\"><span>Sirsa</span><span>50</span></div><div class=\"dist-list\"><span>Yamunanagar</span><span>19</span></div><div class=\"dist-list\"><span>Mahendragarh</span><span>47</span></div><div class=\"dist-list\"><span>Rewari</span><span>56</span></div></div></td><td class=\"table-cell\"><p class=\"mid-wrap\">168880 <span class=\"data-up\">1670</span></p></td><td class=\"table-cell\"><p class=\"mid-wrap\">12634 <span class=\"data-up\">443</span></p></td><td class=\"table-cell\"><p class=\"mid-wrap\">154451 <span class=\"data-down-up\">1221</span></p></td><td class=\"table-cell\"><p class=\"mid-wrap\">1795 <span class=\"data-up\">6</span></p></td></tr><tr class=\"table-row\"><td class=\"table-cell\"><input class=\"ip\" id=\"st14\" type=\"checkbox\"/><label for=\"st14\">Uttar Pradesh</label><div class=\"ddiv\"><div class=\"dist-list\"><span>District</span><span>Cases</span></div><div class=\"dist-list\"><span>Agra</span><span>933</span></div><div class=\"dist-list\"><span>Aligarh</span><span>215</span></div><div class=\"dist-list\"><span>Amroha</span><span>80</span></div><div class=\"dist-list\"><span>Bareilly</span><span>17</span></div><div class=\"dist-list\"><span>Bijnor</span><span>157</span></div><div class=\"dist-list\"><span>Bulandshahr</span><span>166</span></div><div class=\"dist-list\"><span>Firozabad</span><span>190</span></div><div class=\"dist-list\"><span>Gautam Buddha Nagar</span><span>1119</span></div><div class=\"dist-list\"><span>Kanpur Nagar</span><span>286</span></div><div class=\"dist-list\"><span>Lucknow</span><span>386</span></div><div class=\"dist-list\"><span>Mathura</span><span>129</span></div><div class=\"dist-list\"><span>Meerut</span><span>504</span></div><div class=\"dist-list\"><span>Moradabad</span><span>252</span></div><div class=\"dist-list\"><span>Muzaffarnagar</span><span>117</span></div><div class=\"dist-list\"><span>Rae Bareli</span><span>78</span></div><div class=\"dist-list\"><span>Rampur</span><span>203</span></div><div class=\"dist-list\"><span>Saharanpur</span><span>298</span></div><div class=\"dist-list\"><span>Sant Kabeer Nagar</span><span>132</span></div><div class=\"dist-list\"><span>Varanasi</span><span>243</span></div><div class=\"dist-list\"><span>Auraiya</span><span>37</span></div><div class=\"dist-list\"><span>Ayodhya</span><span>120</span></div><div class=\"dist-list\"><span>Azamgarh</span><span>138</span></div><div class=\"dist-list\"><span>Baghpat</span><span>68</span></div><div class=\"dist-list\"><span>Bahraich</span><span>73</span></div><div class=\"dist-list\"><span>Balrampur</span><span>49</span></div><div class=\"dist-list\"><span>Banda</span><span>27</span></div><div class=\"dist-list\"><span>Basti</span><span>214</span></div><div class=\"dist-list\"><span>Bhadohi</span><span>60</span></div><div class=\"dist-list\"><span>Budaun</span><span>23</span></div><div class=\"dist-list\"><span>Etah</span><span>52</span></div><div class=\"dist-list\"><span>Etawah</span><span>46</span></div><div class=\"dist-list\"><span>Ghaziabad</span><span>794</span></div><div class=\"dist-list\"><span>Ghazipur</span><span>159</span></div><div class=\"dist-list\"><span>Gonda</span><span>59</span></div><div class=\"dist-list\"><span>Gorakhpur</span><span>166</span></div><div class=\"dist-list\"><span>Hapur</span><span>225</span></div><div class=\"dist-list\"><span>Hardoi</span><span>49</span></div><div class=\"dist-list\"><span>Jalaun</span><span>41</span></div><div class=\"dist-list\"><span>Jaunpur</span><span>194</span></div><div class=\"dist-list\"><span>Jhansi</span><span>41</span></div><div class=\"dist-list\"><span>Kannauj</span><span>69</span></div><div class=\"dist-list\"><span>Kasganj</span><span>16</span></div><div class=\"dist-list\"><span>Kaushambi</span><span>6</span></div><div class=\"dist-list\"><span>Mainpuri</span><span>46</span></div><div class=\"dist-list\"><span>Mau</span><span>48</span></div><div class=\"dist-list\"><span>Mirzapur</span><span>22</span></div><div class=\"dist-list\"><span>Pilibhit</span><span>15</span></div><div class=\"dist-list\"><span>Pratapgarh</span><span>15</span></div><div class=\"dist-list\"><span>Prayagraj</span><span>30</span></div><div class=\"dist-list\"><span>Sambhal</span><span>116</span></div><div class=\"dist-list\"><span>Shamli</span><span>40</span></div><div class=\"dist-list\"><span>Shravasti</span><span>23</span></div><div class=\"dist-list\"><span>Sitapur</span><span>32</span></div><div class=\"dist-list\"><span>Sultanpur</span><span>97</span></div><div class=\"dist-list\"><span>Unnao</span><span>42</span></div><div class=\"dist-list\"><span>Ambedkar Nagar</span><span>92</span></div><div class=\"dist-list\"><span>Amethi</span><span>206</span></div><div class=\"dist-list\"><span>Ballia</span><span>60</span></div><div class=\"dist-list\"><span>Barabanki</span><span>168</span></div><div class=\"dist-list\"><span>Chandauli</span><span>38</span></div><div class=\"dist-list\"><span>Chitrakoot</span><span>4</span></div><div class=\"dist-list\"><span>Deoria</span><span>143</span></div><div class=\"dist-list\"><span>Farrukhabad</span><span>36</span></div><div class=\"dist-list\"><span>Fatehpur</span><span>3</span></div><div class=\"dist-list\"><span>Hamirpur</span><span>3</span></div><div class=\"dist-list\"><span>Hathras</span><span>43</span></div><div class=\"dist-list\"><span>Kanpur Dehat</span><span>4</span></div><div class=\"dist-list\"><span>Kheri</span><span>72</span></div><div class=\"dist-list\"><span>Kushi Nagar</span><span>67</span></div><div class=\"dist-list\"><span>Lalitpur</span><span>3</span></div><div class=\"dist-list\"><span>Maharajganj</span><span>85</span></div><div class=\"dist-list\"><span>Mahoba</span><span>3</span></div><div class=\"dist-list\"><span>Shahjahanpur</span><span>25</span></div><div class=\"dist-list\"><span>Siddharth Nagar</span><span>159</span></div><div class=\"dist-list\"><span>Sonbhadra</span><span>10</span></div></div></td><td class=\"table-cell\"><p class=\"mid-wrap\">483832 <span class=\"data-up\">1969</span></p></td><td class=\"table-cell\"><p class=\"mid-wrap\">23323 </p></td><td class=\"table-cell\"><p class=\"mid-wrap\">453458 <span class=\"data-down-up\">2388</span></p></td><td class=\"table-cell\"><p class=\"mid-wrap\">7051 <span class=\"data-up\">26</span></p></td></tr><tr class=\"table-row\"><td class=\"table-cell\"><input class=\"ip\" id=\"st15\" type=\"checkbox\"/><label for=\"st15\">Delhi</label><div class=\"ddiv\"><div class=\"dist-list\"><span>District</span><span>Cases</span></div><div class=\"dist-list\"><span>Central</span><span>4817</span></div><div class=\"dist-list\"><span>East</span><span>2472</span></div><div class=\"dist-list\"><span>New Delhi</span><span>3405</span></div><div class=\"dist-list\"><span>North</span><span>3059</span></div><div class=\"dist-list\"><span>North East</span><span>1914</span></div><div class=\"dist-list\"><span>North West</span><span>5463</span></div><div class=\"dist-list\"><span>Shahdara</span><span>1580</span></div><div class=\"dist-list\"><span>South</span><span>2329</span></div><div class=\"dist-list\"><span>South East</span><span>2446</span></div><div class=\"dist-list\"><span>South West</span><span>2391</span></div><div class=\"dist-list\"><span>West</span><span>4768</span></div></div></td><td class=\"table-cell\"><p class=\"mid-wrap\">392370 <span class=\"data-up\">5664</span></p></td><td class=\"table-cell\"><p class=\"mid-wrap\">34173 <span class=\"data-up\">1454</span></p></td><td class=\"table-cell\"><p class=\"mid-wrap\">351635 <span class=\"data-down-up\">4159</span></p></td><td class=\"table-cell\"><p class=\"mid-wrap\">6562 <span class=\"data-up\">51</span></p></td></tr><tr class=\"table-row\"><td class=\"table-cell\"><input class=\"ip\" id=\"st16\" type=\"checkbox\"/><label for=\"st16\">Assam</label><div class=\"ddiv\"><div class=\"dist-list\"><span>District</span><span>Cases</span></div><div class=\"dist-list\"><span>Dhubri</span><span>30</span></div><div class=\"dist-list\"><span>Goalpara</span><span>19</span></div><div class=\"dist-list\"><span>Marigaon</span><span>50</span></div><div class=\"dist-list\"><span>Baksa</span><span>14</span></div><div class=\"dist-list\"><span>Barpeta</span><span>28</span></div><div class=\"dist-list\"><span>Biswanath</span><span>16</span></div><div class=\"dist-list\"><span>Bongaigaon</span><span>12</span></div><div class=\"dist-list\"><span>Cachar</span><span>80</span></div><div class=\"dist-list\"><span>Charaideo</span><span>29</span></div><div class=\"dist-list\"><span>Chirang</span><span>6</span></div><div class=\"dist-list\"><span>Darrang</span><span>20</span></div><div class=\"dist-list\"><span>Dhemaji</span><span>47</span></div><div class=\"dist-list\"><span>Dibrugarh</span><span>61</span></div><div class=\"dist-list\"><span>Dima Hasao</span><span>86</span></div><div class=\"dist-list\"><span>Golaghat</span><span>203</span></div><div class=\"dist-list\"><span>Hailakandi</span><span>57</span></div><div class=\"dist-list\"><span>Hojai</span><span>89</span></div><div class=\"dist-list\"><span>Jorhat</span><span>24</span></div><div class=\"dist-list\"><span>Kamrup</span><span>42</span></div><div class=\"dist-list\"><span>Kamrup Metro</span><span>276</span></div><div class=\"dist-list\"><span>KarbiAnglong</span><span>13</span></div><div class=\"dist-list\"><span>Karimganj</span><span>85</span></div><div class=\"dist-list\"><span>Kokrajhar</span><span>37</span></div><div class=\"dist-list\"><span>Lakhimpur</span><span>57</span></div><div class=\"dist-list\"><span>Majuli</span><span>2</span></div><div class=\"dist-list\"><span>Nagaon</span><span>143</span></div><div class=\"dist-list\"><span>Nalbari</span><span>23</span></div><div class=\"dist-list\"><span>Sivasagar</span><span>20</span></div><div class=\"dist-list\"><span>Sonitpur</span><span>27</span></div><div class=\"dist-list\"><span>South SalmaraMancachar</span><span>4</span></div><div class=\"dist-list\"><span>Tinsukia</span><span>84</span></div><div class=\"dist-list\"><span>Udalguri</span><span>28</span></div><div class=\"dist-list\"><span>West KarbiAnglong</span><span>5</span></div></div></td><td class=\"table-cell\"><p class=\"mid-wrap\">206517 <span class=\"data-up\">166</span></p></td><td class=\"table-cell\"><p class=\"mid-wrap\">8802 </p></td><td class=\"table-cell\"><p class=\"mid-wrap\">196784 <span class=\"data-down-up\">730</span></p></td><td class=\"table-cell\"><p class=\"mid-wrap\">931 <span class=\"data-up\">1</span></p></td></tr><tr class=\"table-row\"><td class=\"table-cell\"><input class=\"ip\" id=\"st17\" type=\"checkbox\"/><label for=\"st17\">Sikkim</label><div class=\"ddiv\"><div class=\"dist-list\"><span>District</span><span>Cases</span></div><div class=\"dist-list\"><span>East District</span><span>3</span></div><div class=\"dist-list\"><span>North District</span><span>0</span></div><div class=\"dist-list\"><span>South District</span><span>3</span></div><div class=\"dist-list\"><span>West District</span><span>0</span></div></div></td><td class=\"table-cell\"><p class=\"mid-wrap\">3958 <span class=\"data-up\">18</span></p></td><td class=\"table-cell\"><p class=\"mid-wrap\">234 </p></td><td class=\"table-cell\"><p class=\"mid-wrap\">3651 <span class=\"data-down-up\">34</span></p></td><td class=\"table-cell\"><p class=\"mid-wrap\">73 <span class=\"data-up\">1</span></p></td></tr><tr class=\"table-row\"><td class=\"table-cell\"><input class=\"ip\" id=\"st18\" type=\"checkbox\"/><label for=\"st18\">Bihar</label><div class=\"ddiv\"><div class=\"dist-list\"><span>District</span><span>Cases</span></div><div class=\"dist-list\"><span>Buxar</span><span>134</span></div><div class=\"dist-list\"><span>Gaya</span><span>115</span></div><div class=\"dist-list\"><span>Munger</span><span>188</span></div><div class=\"dist-list\"><span>Patna</span><span>279</span></div><div class=\"dist-list\"><span>Rohtas</span><span>256</span></div><div class=\"dist-list\"><span>Arwal</span><span>52</span></div><div class=\"dist-list\"><span>Aurangabad</span><span>75</span></div><div class=\"dist-list\"><span>Banka</span><span>134</span></div><div class=\"dist-list\"><span>Begusarai</span><span>243</span></div><div class=\"dist-list\"><span>Bhagalpur</span><span>266</span></div><div class=\"dist-list\"><span>Bhojpur</span><span>103</span></div><div class=\"dist-list\"><span>Darbhanga</span><span>143</span></div><div class=\"dist-list\"><span>Gopalganj</span><span>123</span></div><div class=\"dist-list\"><span>Jehanabad</span><span>178</span></div><div class=\"dist-list\"><span>Kaimur (bhabua)</span><span>105</span></div><div class=\"dist-list\"><span>Lakhisarai</span><span>72</span></div><div class=\"dist-list\"><span>Madhepura</span><span>82</span></div><div class=\"dist-list\"><span>Madhubani</span><span>199</span></div><div class=\"dist-list\"><span>Nalanda</span><span>123</span></div><div class=\"dist-list\"><span>Nawada</span><span>122</span></div><div class=\"dist-list\"><span>PurbiChamparan</span><span>138</span></div><div class=\"dist-list\"><span>Purnia</span><span>135</span></div><div class=\"dist-list\"><span>Saran</span><span>101</span></div><div class=\"dist-list\"><span>Siwan</span><span>139</span></div><div class=\"dist-list\"><span>Vaishali</span><span>87</span></div><div class=\"dist-list\"><span>Araria</span><span>68</span></div><div class=\"dist-list\"><span>Jamui</span><span>47</span></div><div class=\"dist-list\"><span>Katihar</span><span>175</span></div><div class=\"dist-list\"><span>Khagaria</span><span>253</span></div><div class=\"dist-list\"><span>Kishanganj</span><span>75</span></div><div class=\"dist-list\"><span>Muzaffarpur</span><span>96</span></div><div class=\"dist-list\"><span>Pashchim Champaran</span><span>57</span></div><div class=\"dist-list\"><span>Saharsa</span><span>88</span></div><div class=\"dist-list\"><span>Samastipur</span><span>139</span></div><div class=\"dist-list\"><span>Sheikhpura</span><span>118</span></div><div class=\"dist-list\"><span>Sheohar</span><span>20</span></div><div class=\"dist-list\"><span>Sitamarhi</span><span>73</span></div><div class=\"dist-list\"><span>Supaul</span><span>87</span></div></div></td><td class=\"table-cell\"><p class=\"mid-wrap\">216707 <span class=\"data-up\">621</span></p></td><td class=\"table-cell\"><p class=\"mid-wrap\">6966 </p></td><td class=\"table-cell\"><p class=\"mid-wrap\">208644 <span class=\"data-down-up\">1164</span></p></td><td class=\"table-cell\"><p class=\"mid-wrap\">1097 <span class=\"data-up\">7</span></p></td></tr><tr class=\"table-row\"><td class=\"table-cell\"><input class=\"ip\" id=\"st19\" type=\"checkbox\"/><label for=\"st19\">West Bengal</label><div class=\"ddiv\"><div class=\"dist-list\"><span>District</span><span>Cases</span></div><div class=\"dist-list\"><span>24 Paraganas North</span><span>1031</span></div><div class=\"dist-list\"><span>24 Paraganas South</span><span>281</span></div><div class=\"dist-list\"><span>Darjeeling</span><span>97</span></div><div class=\"dist-list\"><span>Howrah</span><span>1435</span></div><div class=\"dist-list\"><span>Jalpaiguri</span><span>88</span></div><div class=\"dist-list\"><span>Kalimpong</span><span>18</span></div><div class=\"dist-list\"><span>Kolkata</span><span>2777</span></div><div class=\"dist-list\"><span>Maldah</span><span>235</span></div><div class=\"dist-list\"><span>Medinipur East</span><span>153</span></div><div class=\"dist-list\"><span>Medinipur West</span><span>159</span></div><div class=\"dist-list\"><span>Hooghly</span><span>604</span></div><div class=\"dist-list\"><span>Murshidabad</span><span>125</span></div><div class=\"dist-list\"><span>Nadia</span><span>139</span></div><div class=\"dist-list\"><span>Paschim Bardhaman</span><span>70</span></div><div class=\"dist-list\"><span>Purba Bardhaman</span><span>130</span></div><div class=\"dist-list\"><span>Alipurduar</span><span>39</span></div><div class=\"dist-list\"><span>Bankura</span><span>116</span></div><div class=\"dist-list\"><span>Birbhum</span><span>206</span></div><div class=\"dist-list\"><span>Coochbehar</span><span>210</span></div><div class=\"dist-list\"><span>Dinajpur Dakshin</span><span>50</span></div><div class=\"dist-list\"><span>Dinajpur Uttar</span><span>216</span></div><div class=\"dist-list\"><span>Jhargram</span><span>9</span></div><div class=\"dist-list\"><span>Purulia</span><span>66</span></div></div></td><td class=\"table-cell\"><p class=\"mid-wrap\">377651 <span class=\"data-up\">3987</span></p></td><td class=\"table-cell\"><p class=\"mid-wrap\">36761 </p></td><td class=\"table-cell\"><p class=\"mid-wrap\">333990 <span class=\"data-down-up\">4053</span></p></td><td class=\"table-cell\"><p class=\"mid-wrap\">6900 <span class=\"data-up\">59</span></p></td></tr><tr class=\"table-row\"><td class=\"table-cell\"><input class=\"ip\" id=\"st20\" type=\"checkbox\"/><label for=\"st20\">Andaman And Nicobar Islands</label><div class=\"ddiv\"><div class=\"dist-list\"><span>District</span><span>Cases</span></div><div class=\"dist-list\"><span>South Andamans</span><span>33</span></div><div class=\"dist-list\"><span>Nicobars</span><span>1</span></div><div class=\"dist-list\"><span>North And Middle Andaman</span><span>1</span></div></div></td><td class=\"table-cell\"><p class=\"mid-wrap\">4340 <span class=\"data-up\">8</span></p></td><td class=\"table-cell\"><p class=\"mid-wrap\">168 </p></td><td class=\"table-cell\"><p class=\"mid-wrap\">4112 <span class=\"data-down-up\">12</span></p></td><td class=\"table-cell\"><p class=\"mid-wrap\">60 <span class=\"data-up\">1</span></p></td></tr><tr class=\"table-row\"><td class=\"table-cell\"><input class=\"ip\" id=\"st21\" type=\"checkbox\"/><label for=\"st21\">Puducherry</label><div class=\"ddiv\"><div class=\"dist-list\"><span>District</span><span>Cases</span></div><div class=\"dist-list\"><span>Pondicherry</span><span>111</span></div><div class=\"dist-list\"><span>Karaikal</span><span>2</span></div><div class=\"dist-list\"><span>Mahe</span><span>4</span></div><div class=\"dist-list\"><span>Yanam</span><span>0</span></div></div></td><td class=\"table-cell\"><p class=\"mid-wrap\">35109 <span class=\"data-up\">96</span></p></td><td class=\"table-cell\"><p class=\"mid-wrap\">3169 </p></td><td class=\"table-cell\"><p class=\"mid-wrap\">31345 <span class=\"data-down-up\">621</span></p></td><td class=\"table-cell\"><p class=\"mid-wrap\">595 <span class=\"data-up\">3</span></p></td></tr><tr class=\"table-row\"><td class=\"table-cell\"><input class=\"ip\" id=\"st22\" type=\"checkbox\"/><label for=\"st22\">Arunachal Pradesh</label><div class=\"ddiv\"><div class=\"dist-list\"><span>District</span><span>Cases</span></div><div class=\"dist-list\"><span>Anjaw</span><span>0</span></div><div class=\"dist-list\"><span>Changlang</span><span>31</span></div><div class=\"dist-list\"><span>Dibang Valley</span><span>0</span></div><div class=\"dist-list\"><span>East Kameng</span><span>0</span></div><div class=\"dist-list\"><span>East Siang</span><span>1</span></div><div class=\"dist-list\"><span>Kamle</span><span>0</span></div><div class=\"dist-list\"><span>KraDaadi</span><span>0</span></div><div class=\"dist-list\"><span>KurungKumey</span><span>0</span></div><div class=\"dist-list\"><span>Leparada</span><span>0</span></div><div class=\"dist-list\"><span>Lohit</span><span>3</span></div><div class=\"dist-list\"><span>Longding</span><span>0</span></div><div class=\"dist-list\"><span>Lower Dibang Valley</span><span>0</span></div><div class=\"dist-list\"><span>Lower Siang</span><span>0</span></div><div class=\"dist-list\"><span>Lower Subansiri</span><span>0</span></div><div class=\"dist-list\"><span>Namsai</span><span>2</span></div><div class=\"dist-list\"><span>PakkeKessang</span><span>1</span></div><div class=\"dist-list\"><span>Papum Pare</span><span>8</span></div><div class=\"dist-list\"><span>Shi Yomi</span><span>0</span></div><div class=\"dist-list\"><span>Siang</span><span>0</span></div><div class=\"dist-list\"><span>Tawang</span><span>1</span></div><div class=\"dist-list\"><span>Tirap</span><span>0</span></div><div class=\"dist-list\"><span>Upper Siang</span><span>1</span></div><div class=\"dist-list\"><span>Upper Subansiri</span><span>0</span></div><div class=\"dist-list\"><span>West Kameng</span><span>0</span></div><div class=\"dist-list\"><span>West Siang</span><span>1</span></div></div></td><td class=\"table-cell\"><p class=\"mid-wrap\">14881 <span class=\"data-up\">29</span></p></td><td class=\"table-cell\"><p class=\"mid-wrap\">1771 </p></td><td class=\"table-cell\"><p class=\"mid-wrap\">13073 <span class=\"data-down-up\">114</span></p></td><td class=\"table-cell\"><p class=\"mid-wrap\">37 </p></td></tr><tr class=\"table-row\"><td class=\"table-cell\"><input class=\"ip\" id=\"st23\" type=\"checkbox\"/><label for=\"st23\">Nagaland</label><div class=\"ddiv\"><div class=\"dist-list\"><span>District</span><span>Cases</span></div><div class=\"dist-list\"><span>Dimapur</span><span>20</span></div><div class=\"dist-list\"><span>Kiphire</span><span>3</span></div><div class=\"dist-list\"><span>Kohima</span><span>7</span></div><div class=\"dist-list\"><span>Longleng</span><span>0</span></div><div class=\"dist-list\"><span>Mokokchung</span><span>0</span></div><div class=\"dist-list\"><span>Mon</span><span>8</span></div><div class=\"dist-list\"><span>Peren</span><span>2</span></div><div class=\"dist-list\"><span>Phek</span><span>1</span></div><div class=\"dist-list\"><span>Tuensang</span><span>3</span></div><div class=\"dist-list\"><span>Wokha</span><span>0</span></div><div class=\"dist-list\"><span>Zunheboto</span><span>0</span></div></div></td><td class=\"table-cell\"><p class=\"mid-wrap\">9075 <span class=\"data-up\">28</span></p></td><td class=\"table-cell\"><p class=\"mid-wrap\">1501 </p></td><td class=\"table-cell\"><p class=\"mid-wrap\">7535 <span class=\"data-down-up\">81</span></p></td><td class=\"table-cell\"><p class=\"mid-wrap\">39 </p></td></tr><tr class=\"table-row\"><td class=\"table-cell\"><input class=\"ip\" id=\"st24\" type=\"checkbox\"/><label for=\"st24\">Dadra And Nagar Haveli</label><div class=\"ddiv\"><div class=\"dist-list\"><span>District</span><span>Cases</span></div><div class=\"dist-list\"><span>Dadra And Nagar Haveli</span><span>20</span></div></div></td><td class=\"table-cell\"><p class=\"mid-wrap\">3255 <span class=\"data-up\">4</span></p></td><td class=\"table-cell\"><p class=\"mid-wrap\">34 </p></td><td class=\"table-cell\"><p class=\"mid-wrap\">3219 <span class=\"data-down-up\">9</span></p></td><td class=\"table-cell\"><p class=\"mid-wrap\">2 </p></td></tr><tr class=\"table-row\"><td class=\"table-cell\"><input class=\"ip\" id=\"st25\" type=\"checkbox\"/><label for=\"st25\">Jharkhand</label><div class=\"ddiv\"><div class=\"dist-list\"><span>District</span><span>Cases</span></div><div class=\"dist-list\"><span>Ranchi</span><span>148</span></div><div class=\"dist-list\"><span>Bokaro</span><span>16</span></div><div class=\"dist-list\"><span>Deoghar</span><span>5</span></div><div class=\"dist-list\"><span>Dhanbad</span><span>32</span></div><div class=\"dist-list\"><span>Garhwa</span><span>80</span></div><div class=\"dist-list\"><span>Giridih</span><span>19</span></div><div class=\"dist-list\"><span>Hazaribagh</span><span>110</span></div><div class=\"dist-list\"><span>Jamtara</span><span>2</span></div><div class=\"dist-list\"><span>Koderma</span><span>58</span></div><div class=\"dist-list\"><span>Simdega</span><span>48</span></div><div class=\"dist-list\"><span>Chatra</span><span>1</span></div><div class=\"dist-list\"><span>Dumka</span><span>5</span></div><div class=\"dist-list\"><span>East Singhbum</span><span>170</span></div><div class=\"dist-list\"><span>Godda</span><span>2</span></div><div class=\"dist-list\"><span>Gumla</span><span>28</span></div><div class=\"dist-list\"><span>Khunti</span><span>10</span></div><div class=\"dist-list\"><span>Latehar</span><span>14</span></div><div class=\"dist-list\"><span>Lohardaga</span><span>8</span></div><div class=\"dist-list\"><span>Pakur</span><span>4</span></div><div class=\"dist-list\"><span>Palamu</span><span>27</span></div><div class=\"dist-list\"><span>Ramgarh</span><span>75</span></div><div class=\"dist-list\"><span>Sahebganj</span><span>0</span></div><div class=\"dist-list\"><span>SaraikelaKharsawan</span><span>20</span></div><div class=\"dist-list\"><span>West Singhbhum</span><span>21</span></div></div></td><td class=\"table-cell\"><p class=\"mid-wrap\">102087 <span class=\"data-up\">326</span></p></td><td class=\"table-cell\"><p class=\"mid-wrap\">5229 </p></td><td class=\"table-cell\"><p class=\"mid-wrap\">95973 <span class=\"data-down-up\">398</span></p></td><td class=\"table-cell\"><p class=\"mid-wrap\">885 <span class=\"data-up\">1</span></p></td></tr><tr class=\"table-row\"><td class=\"table-cell\"><input class=\"ip\" id=\"st26\" type=\"checkbox\"/><label for=\"st26\">Tripura</label><div class=\"ddiv\"><div class=\"dist-list\"><span>District</span><span>Cases</span></div><div class=\"dist-list\"><span>Gomati</span><span>74</span></div><div class=\"dist-list\"><span>North Tripura</span><span>14</span></div><div class=\"dist-list\"><span>Dhalai</span><span>196</span></div><div class=\"dist-list\"><span>Khowai</span><span>24</span></div><div class=\"dist-list\"><span>Sepahijala</span><span>174</span></div><div class=\"dist-list\"><span>South Tripura</span><span>53</span></div><div class=\"dist-list\"><span>Unakoti</span><span>49</span></div><div class=\"dist-list\"><span>West Tripura</span><span>45</span></div></div></td><td class=\"table-cell\"><p class=\"mid-wrap\">30852 <span class=\"data-up\">58</span></p></td><td class=\"table-cell\"><p class=\"mid-wrap\">1270 </p></td><td class=\"table-cell\"><p class=\"mid-wrap\">29234 <span class=\"data-down-up\">186</span></p></td><td class=\"table-cell\"><p class=\"mid-wrap\">348 <span class=\"data-up\">2</span></p></td></tr><tr class=\"table-row\"><td class=\"table-cell\"><input class=\"ip\" id=\"st27\" type=\"checkbox\"/><label for=\"st27\">Ladakh</label><div class=\"ddiv\"><div class=\"dist-list\"><span>District</span><span>Cases</span></div><div class=\"dist-list\"><span>Kargil</span><span>77</span></div><div class=\"dist-list\"><span>LehLadakh</span><span>43</span></div></div></td><td class=\"table-cell\"><p class=\"mid-wrap\">6287 <span class=\"data-up\">17</span></p></td><td class=\"table-cell\"><p class=\"mid-wrap\">583 </p></td><td class=\"table-cell\"><p class=\"mid-wrap\">5629 <span class=\"data-down-up\">90</span></p></td><td class=\"table-cell\"><p class=\"mid-wrap\">75 </p></td></tr><tr class=\"table-row\"><td class=\"table-cell\"><input class=\"ip\" id=\"st28\" type=\"checkbox\"/><label for=\"st28\">Jammu And Kashmir</label><div class=\"ddiv\"><div class=\"dist-list\"><span>District</span><span>Cases</span></div><div class=\"dist-list\"><span>Anantnag</span><span>395</span></div><div class=\"dist-list\"><span>Bandipora</span><span>175</span></div><div class=\"dist-list\"><span>Shopian</span><span>255</span></div><div class=\"dist-list\"><span>Srinagar</span><span>300</span></div><div class=\"dist-list\"><span>Baramulla</span><span>271</span></div><div class=\"dist-list\"><span>Budgam</span><span>110</span></div><div class=\"dist-list\"><span>Ganderbal</span><span>37</span></div><div class=\"dist-list\"><span>Jammu</span><span>138</span></div><div class=\"dist-list\"><span>Kathua</span><span>53</span></div><div class=\"dist-list\"><span>Kulgam</span><span>295</span></div><div class=\"dist-list\"><span>Kupwara</span><span>231</span></div><div class=\"dist-list\"><span>Rajouri</span><span>39</span></div><div class=\"dist-list\"><span>Ramban</span><span>151</span></div><div class=\"dist-list\"><span>Reasi</span><span>26</span></div><div class=\"dist-list\"><span>Samba</span><span>25</span></div><div class=\"dist-list\"><span>Udhampur</span><span>155</span></div><div class=\"dist-list\"><span>Mirpur</span><span>0</span></div><div class=\"dist-list\"><span>Muzaffarabad</span><span>0</span></div><div class=\"dist-list\"><span>Doda</span><span>27</span></div><div class=\"dist-list\"><span>Kishtwar</span><span>10</span></div><div class=\"dist-list\"><span>Poonch</span><span>35</span></div><div class=\"dist-list\"><span>Pulwama</span><span>108</span></div></div></td><td class=\"table-cell\"><p class=\"mid-wrap\">95325 <span class=\"data-up\">540</span></p></td><td class=\"table-cell\"><p class=\"mid-wrap\">6326 </p></td><td class=\"table-cell\"><p class=\"mid-wrap\">87517 <span class=\"data-down-up\">629</span></p></td><td class=\"table-cell\"><p class=\"mid-wrap\">1482 <span class=\"data-up\">4</span></p></td></tr><tr class=\"table-row\"><td class=\"table-cell\"><input class=\"ip\" id=\"st29\" type=\"checkbox\"/><label for=\"st29\">Himachal Pradesh</label><div class=\"ddiv\"><div class=\"dist-list\"><span>District</span><span>Cases</span></div><div class=\"dist-list\"><span>Chamba</span><span>29</span></div><div class=\"dist-list\"><span>Hamirpur</span><span>117</span></div><div class=\"dist-list\"><span>Kangra</span><span>105</span></div><div class=\"dist-list\"><span>Sirmaur</span><span>11</span></div><div class=\"dist-list\"><span>Solan</span><span>32</span></div><div class=\"dist-list\"><span>Una</span><span>41</span></div><div class=\"dist-list\"><span>Bilaspur</span><span>21</span></div><div class=\"dist-list\"><span>Kinnaur</span><span>2</span></div><div class=\"dist-list\"><span>Kullu</span><span>4</span></div><div class=\"dist-list\"><span>Lahaul And Spiti</span><span>0</span></div><div class=\"dist-list\"><span>Mandi</span><span>21</span></div><div class=\"dist-list\"><span>Shimla</span><span>10</span></div></div></td><td class=\"table-cell\"><p class=\"mid-wrap\">22264 <span class=\"data-up\">205</span></p></td><td class=\"table-cell\"><p class=\"mid-wrap\">2973 <span class=\"data-up\">93</span></p></td><td class=\"table-cell\"><p class=\"mid-wrap\">18965 <span class=\"data-down-up\">103</span></p></td><td class=\"table-cell\"><p class=\"mid-wrap\">326 <span class=\"data-up\">9</span></p></td></tr><tr class=\"table-row\"><td class=\"table-cell\"><input class=\"ip\" id=\"st30\" type=\"checkbox\"/><label for=\"st30\">Punjab</label><div class=\"ddiv\"><div class=\"dist-list\"><span>District</span><span>Cases</span></div><div class=\"dist-list\"><span>Jalandhar</span><span>297</span></div><div class=\"dist-list\"><span>Ludhiana</span><span>293</span></div><div class=\"dist-list\"><span>Patiala</span><span>132</span></div><div class=\"dist-list\"><span>Amritsar</span><span>485</span></div><div class=\"dist-list\"><span>Barnala</span><span>25</span></div><div class=\"dist-list\"><span>Faridkot</span><span>74</span></div><div class=\"dist-list\"><span>Firozepur</span><span>50</span></div><div class=\"dist-list\"><span>Gurdaspur</span><span>154</span></div><div class=\"dist-list\"><span>Hoshiarpur</span><span>140</span></div><div class=\"dist-list\"><span>Kapurthala</span><span>44</span></div><div class=\"dist-list\"><span>Mansa</span><span>31</span></div><div class=\"dist-list\"><span>Moga</span><span>65</span></div><div class=\"dist-list\"><span>Pathankot</span><span>86</span></div><div class=\"dist-list\"><span>S.A.S Nagar</span><span>137</span></div><div class=\"dist-list\"><span>Sangrur</span><span>107</span></div><div class=\"dist-list\"><span>Shahid Bhagat Singh Nagar (Nawanshahr)</span><span>99</span></div><div class=\"dist-list\"><span>Sri Muktsar Sahib</span><span>71</span></div><div class=\"dist-list\"><span>Tarn Taran</span><span>163</span></div><div class=\"dist-list\"><span>Bathinda</span><span>60</span></div><div class=\"dist-list\"><span>Fatehgarh Sahib</span><span>57</span></div><div class=\"dist-list\"><span>Fazilka</span><span>53</span></div><div class=\"dist-list\"><span>Rupnagar (Ropar)</span><span>74</span></div></div></td><td class=\"table-cell\"><p class=\"mid-wrap\">133975 <span class=\"data-up\">317</span></p></td><td class=\"table-cell\"><p class=\"mid-wrap\">4195 </p></td><td class=\"table-cell\"><p class=\"mid-wrap\">125566 <span class=\"data-down-up\">368</span></p></td><td class=\"table-cell\"><p class=\"mid-wrap\">4214 <span class=\"data-up\">11</span></p></td></tr><tr class=\"table-row\"><td class=\"table-cell\"><input class=\"ip\" id=\"st31\" type=\"checkbox\"/><label for=\"st31\">Uttarakhand</label><div class=\"ddiv\"><div class=\"dist-list\"><span>District</span><span>Cases</span></div><div class=\"dist-list\"><span>Haridwar</span><span>94</span></div><div class=\"dist-list\"><span>Dehradun</span><span>370</span></div><div class=\"dist-list\"><span>Nainital</span><span>323</span></div><div class=\"dist-list\"><span>Almora</span><span>71</span></div><div class=\"dist-list\"><span>Bageshwar</span><span>31</span></div><div class=\"dist-list\"><span>Chamoli</span><span>36</span></div><div class=\"dist-list\"><span>Champawat</span><span>45</span></div><div class=\"dist-list\"><span>PauriGarhwal</span><span>36</span></div><div class=\"dist-list\"><span>Pithoragarh</span><span>43</span></div><div class=\"dist-list\"><span>Rudraprayag</span><span>30</span></div><div class=\"dist-list\"><span>Tehri Garhwal</span><span>110</span></div><div class=\"dist-list\"><span>Udam Singh Nagar</span><span>83</span></div><div class=\"dist-list\"><span>Uttar Kashi</span><span>24</span></div></div></td><td class=\"table-cell\"><p class=\"mid-wrap\">62550 <span class=\"data-up\">222</span></p></td><td class=\"table-cell\"><p class=\"mid-wrap\">3914 <span class=\"data-up\">31</span></p></td><td class=\"table-cell\"><p class=\"mid-wrap\">57609 <span class=\"data-down-up\">187</span></p></td><td class=\"table-cell\"><p class=\"mid-wrap\">1027 <span class=\"data-up\">4</span></p></td></tr><tr class=\"table-row\"><td class=\"table-cell\"><input class=\"ip\" id=\"st32\" type=\"checkbox\"/><label for=\"st32\">Manipur</label><div class=\"ddiv\"><div class=\"dist-list\"><span>District</span><span>Cases</span></div><div class=\"dist-list\"><span>Bishnupur</span><span>7</span></div><div class=\"dist-list\"><span>Chandel</span><span>5</span></div><div class=\"dist-list\"><span>Churachandpur</span><span>32</span></div><div class=\"dist-list\"><span>Imphal East</span><span>10</span></div><div class=\"dist-list\"><span>Imphal West</span><span>21</span></div><div class=\"dist-list\"><span>Jiribam</span><span>3</span></div><div class=\"dist-list\"><span>Kakching</span><span>2</span></div><div class=\"dist-list\"><span>Kamjong</span><span>5</span></div><div class=\"dist-list\"><span>Kangpokpi</span><span>26</span></div><div class=\"dist-list\"><span>Noney</span><span>1</span></div><div class=\"dist-list\"><span>Pherzawl</span><span>3</span></div><div class=\"dist-list\"><span>Senapati</span><span>6</span></div><div class=\"dist-list\"><span>Tamenglong</span><span>2</span></div><div class=\"dist-list\"><span>Tengnoupal</span><span>9</span></div><div class=\"dist-list\"><span>Thoubal</span><span>18</span></div><div class=\"dist-list\"><span>Ukhrul</span><span>4</span></div></div></td><td class=\"table-cell\"><p class=\"mid-wrap\">18750 <span class=\"data-up\">248</span></p></td><td class=\"table-cell\"><p class=\"mid-wrap\">3514 <span class=\"data-up\">42</span></p></td><td class=\"table-cell\"><p class=\"mid-wrap\">15065 <span class=\"data-down-up\">203</span></p></td><td class=\"table-cell\"><p class=\"mid-wrap\">171 <span class=\"data-up\">3</span></p></td></tr><tr class=\"table-row\"><td class=\"table-cell\"><input class=\"ip\" id=\"st33\" type=\"checkbox\"/><label for=\"st33\">Chandigarh</label><div class=\"ddiv\"><div class=\"dist-list\"><span>District</span><span>Cases</span></div><div class=\"dist-list\"><span>Chandigarh</span><span>313</span></div></div></td><td class=\"table-cell\"><p class=\"mid-wrap\">14476 <span class=\"data-up\">58</span></p></td><td class=\"table-cell\"><p class=\"mid-wrap\">618 </p></td><td class=\"table-cell\"><p class=\"mid-wrap\">13632 <span class=\"data-down-up\">81</span></p></td><td class=\"table-cell\"><p class=\"mid-wrap\">226 </p></td></tr><tr class=\"table-row\"><td class=\"table-cell\"><input class=\"ip\" id=\"st34\" type=\"checkbox\"/><label for=\"st34\">Meghalaya</label><div class=\"ddiv\"><div class=\"dist-list\"><span>District</span><span>Cases</span></div><div class=\"dist-list\"><span>East Khasi Hills</span><span>22</span></div><div class=\"dist-list\"><span>East Garo Hills</span><span>0</span></div><div class=\"dist-list\"><span>East Jaintia Hills</span><span>0</span></div><div class=\"dist-list\"><span>North Garo Hills</span><span>1</span></div><div class=\"dist-list\"><span>Ribhoi</span><span>0</span></div><div class=\"dist-list\"><span>South Garo Hills</span><span>0</span></div><div class=\"dist-list\"><span>South West Garo Hills</span><span>4</span></div><div class=\"dist-list\"><span>South West Khasi Hills</span><span>0</span></div><div class=\"dist-list\"><span>West Garo Hills</span><span>5</span></div><div class=\"dist-list\"><span>West Jaintia Hills</span><span>1</span></div><div class=\"dist-list\"><span>West Khasi Hills</span><span>1</span></div></div></td><td class=\"table-cell\"><p class=\"mid-wrap\">9607 <span class=\"data-up\">155</span></p></td><td class=\"table-cell\"><p class=\"mid-wrap\">1055 <span class=\"data-up\">36</span></p></td><td class=\"table-cell\"><p class=\"mid-wrap\">8462 <span class=\"data-down-up\">117</span></p></td><td class=\"table-cell\"><p class=\"mid-wrap\">90 <span class=\"data-up\">2</span></p></td></tr><tr class=\"table-row\"><td class=\"table-cell\"><input class=\"ip\" id=\"st35\" type=\"checkbox\"/><label for=\"st35\">Mizoram</label><div class=\"ddiv\"><div class=\"dist-list\"><span>District</span><span>Cases</span></div><div class=\"dist-list\"><span>Aizawl</span><span>10</span></div><div class=\"dist-list\"><span>Champhai</span><span>0</span></div><div class=\"dist-list\"><span>Hnahthial</span><span>0</span></div><div class=\"dist-list\"><span>Khawzawl</span><span>0</span></div><div class=\"dist-list\"><span>Kolasib</span><span>11</span></div><div class=\"dist-list\"><span>Lawngtlai</span><span>2</span></div><div class=\"dist-list\"><span>Lunglei</span><span>2</span></div><div class=\"dist-list\"><span>Mamit</span><span>8</span></div><div class=\"dist-list\"><span>Saiha</span><span>0</span></div><div class=\"dist-list\"><span>Saitual</span><span>1</span></div><div class=\"dist-list\"><span>Serchhip</span><span>0</span></div></div></td><td class=\"table-cell\"><p class=\"mid-wrap\">2757 <span class=\"data-up\">4</span></p></td><td class=\"table-cell\"><p class=\"mid-wrap\">433 </p></td><td class=\"table-cell\"><p class=\"mid-wrap\">2323 <span class=\"data-down-up\">32</span></p></td><td class=\"table-cell\"><p class=\"mid-wrap\">1 </p></td></tr><tr class=\"table-row\"><td class=\"table-cell\"><input class=\"ip\" id=\"st36\" type=\"checkbox\"/><label for=\"st36\">Lakshadweep</label><div class=\"ddiv\"><div class=\"dist-list\"><span>District</span><span>Cases</span></div><div class=\"dist-list\"><span>Lakshadweep District</span><span>0</span></div></div></td><td class=\"table-cell\"><p class=\"mid-wrap\">0 </p></td><td class=\"table-cell\"><p class=\"mid-wrap\">0 </p></td><td class=\"table-cell\"><p class=\"mid-wrap\">0 </p></td><td class=\"table-cell\"><p class=\"mid-wrap\">0 </p></td></tr></tbody></table>"
      ]
     },
     "execution_count": 9,
     "metadata": {},
     "output_type": "execute_result"
    }
   ],
   "source": [
    "soup.table"
   ]
  },
  {
   "cell_type": "code",
   "execution_count": 10,
   "metadata": {},
   "outputs": [],
   "source": [
    "table = soup.find_all('table')"
   ]
  },
  {
   "cell_type": "code",
   "execution_count": 11,
   "metadata": {},
   "outputs": [],
   "source": [
    "rows = table[0].find_all('tr')"
   ]
  },
  {
   "cell_type": "code",
   "execution_count": 12,
   "metadata": {},
   "outputs": [
    {
     "data": {
      "text/plain": [
       "['\\n          State\\n    ',\n",
       " '\\n          Cases\\n    ',\n",
       " '\\n          Active\\n    ',\n",
       " '\\n          Recovered\\n    ',\n",
       " '\\n          Deaths\\n    ']"
      ]
     },
     "execution_count": 12,
     "metadata": {},
     "output_type": "execute_result"
    }
   ],
   "source": [
    "[i.text for i in rows[0]]"
   ]
  },
  {
   "cell_type": "code",
   "execution_count": 13,
   "metadata": {},
   "outputs": [
    {
     "data": {
      "text/plain": [
       "['          State    ',\n",
       " '          Cases    ',\n",
       " '          Active    ',\n",
       " '          Recovered    ',\n",
       " '          Deaths    ']"
      ]
     },
     "execution_count": 13,
     "metadata": {},
     "output_type": "execute_result"
    }
   ],
   "source": [
    "[i.text.replace('\\n','') for i in rows[0]]"
   ]
  },
  {
   "cell_type": "code",
   "execution_count": 14,
   "metadata": {},
   "outputs": [
    {
     "data": {
      "text/plain": [
       "['State', 'Cases', 'Active', 'Recovered', 'Deaths']"
      ]
     },
     "execution_count": 14,
     "metadata": {},
     "output_type": "execute_result"
    }
   ],
   "source": [
    "[i.text.replace('\\n','').strip() for i in rows[0]]"
   ]
  },
  {
   "cell_type": "code",
   "execution_count": 15,
   "metadata": {},
   "outputs": [],
   "source": [
    "headings = [i.text.replace('\\n','').strip() for i in rows[0]] "
   ]
  },
  {
   "cell_type": "code",
   "execution_count": 16,
   "metadata": {},
   "outputs": [
    {
     "data": {
      "text/plain": [
       "['State', 'Cases', 'Active', 'Recovered', 'Deaths']"
      ]
     },
     "execution_count": 16,
     "metadata": {},
     "output_type": "execute_result"
    }
   ],
   "source": [
    "headings"
   ]
  },
  {
   "cell_type": "code",
   "execution_count": 17,
   "metadata": {},
   "outputs": [],
   "source": [
    "rows = table[0].find_all('tr')"
   ]
  },
  {
   "cell_type": "code",
   "execution_count": 19,
   "metadata": {},
   "outputs": [
    {
     "name": "stdout",
     "output_type": "stream",
     "text": [
      "<tr class=\"table-row\"><th class=\"table-cell\">\n",
      "          State\n",
      "    </th><th class=\"table-cell c\">\n",
      "          Cases\n",
      "    </th><th class=\"table-cell a\">\n",
      "          Active\n",
      "    </th><th class=\"table-cell r\">\n",
      "          Recovered\n",
      "    </th><th class=\"table-cell d\">\n",
      "          Deaths\n",
      "    </th></tr>\n",
      "<tr class=\"table-row\"><td class=\"table-cell\"><input class=\"ip\" id=\"st1\" type=\"checkbox\"/><label for=\"st1\">Maharashtra</label><div class=\"ddiv\"><div class=\"dist-list\"><span>District</span><span>Cases</span></div><div class=\"dist-list\"><span>Akola</span><span>757</span></div><div class=\"dist-list\"><span>Aurangabad</span><span>1974</span></div><div class=\"dist-list\"><span>Dhule</span><span>228</span></div><div class=\"dist-list\"><span>Jalgaon</span><span>1039</span></div><div class=\"dist-list\"><span>Mumbai</span><span>45478</span></div><div class=\"dist-list\"><span>Mumbai Suburban</span><span>5363</span></div><div class=\"dist-list\"><span>Nagpur</span><span>692</span></div><div class=\"dist-list\"><span>Nashik</span><span>1575</span></div><div class=\"dist-list\"><span>Palghar</span><span>1421</span></div><div class=\"dist-list\"><span>Pune</span><span>9920</span></div><div class=\"dist-list\"><span>Satara</span><span>629</span></div><div class=\"dist-list\"><span>Solapur</span><span>1291</span></div><div class=\"dist-list\"><span>Thane</span><span>13660</span></div><div class=\"dist-list\"><span>Yavatmal</span><span>150</span></div><div class=\"dist-list\"><span>Ahmednagar</span><span>190</span></div><div class=\"dist-list\"><span>Amravati</span><span>291</span></div><div class=\"dist-list\"><span>Beed</span><span>54</span></div><div class=\"dist-list\"><span>Bhandara</span><span>41</span></div><div class=\"dist-list\"><span>Buldhana</span><span>88</span></div><div class=\"dist-list\"><span>Chandrapur</span><span>32</span></div><div class=\"dist-list\"><span>Hingoli</span><span>208</span></div><div class=\"dist-list\"><span>Jalna</span><span>201</span></div><div class=\"dist-list\"><span>Kolhapur</span><span>646</span></div><div class=\"dist-list\"><span>Latur</span><span>139</span></div><div class=\"dist-list\"><span>Nanded</span><span>176</span></div><div class=\"dist-list\"><span>Nandurbar</span><span>42</span></div><div class=\"dist-list\"><span>Parbhani</span><span>78</span></div><div class=\"dist-list\"><span>Raigad</span><span>1462</span></div><div class=\"dist-list\"><span>Ratnagiri</span><span>350</span></div><div class=\"dist-list\"><span>Sangli</span><span>145</span></div><div class=\"dist-list\"><span>Gadchiroli</span><span>42</span></div><div class=\"dist-list\"><span>gondia</span><span>69</span></div><div class=\"dist-list\"><span>Osmanabad</span><span>125</span></div><div class=\"dist-list\"><span>Sindhudurg</span><span>114</span></div><div class=\"dist-list\"><span>Wardha</span><span>11</span></div><div class=\"dist-list\"><span>Washim</span><span>13</span></div></div></td><td class=\"table-cell\"><p class=\"mid-wrap\">1683775 <span class=\"data-up\">5369</span></p></td><td class=\"table-cell\"><p class=\"mid-wrap\">125672 <span class=\"data-up\">1530</span></p></td><td class=\"table-cell\"><p class=\"mid-wrap\">1514079 <span class=\"data-down-up\">3726</span></p></td><td class=\"table-cell\"><p class=\"mid-wrap\">44024 <span class=\"data-up\">113</span></p></td></tr>\n",
      "<tr class=\"table-row\"><td class=\"table-cell\"><input class=\"ip\" id=\"st2\" type=\"checkbox\"/><label for=\"st2\">Andhra Pradesh</label><div class=\"ddiv\"><div class=\"dist-list\"><span>District</span><span>Cases</span></div><div class=\"dist-list\"><span>Chittoor</span><span>319</span></div><div class=\"dist-list\"><span>Guntur</span><span>511</span></div><div class=\"dist-list\"><span>Krishna</span><span>557</span></div><div class=\"dist-list\"><span>Kurnool</span><span>795</span></div><div class=\"dist-list\"><span>Sri Potti Sriramulu Nell*</span><span>296</span></div><div class=\"dist-list\"><span>Anantapur</span><span>428</span></div><div class=\"dist-list\"><span>East Godavari</span><span>356</span></div><div class=\"dist-list\"><span>Prakasam</span><span>104</span></div><div class=\"dist-list\"><span>Srikakulam</span><span>183</span></div><div class=\"dist-list\"><span>Visakhapatnam</span><span>103</span></div><div class=\"dist-list\"><span>West Godavari</span><span>199</span></div><div class=\"dist-list\"><span>Y.S.R.</span><span>205</span></div><div class=\"dist-list\"><span>Vizianagaram</span><span>23</span></div></div></td><td class=\"table-cell\"><p class=\"mid-wrap\">825966 <span class=\"data-up\">2618</span></p></td><td class=\"table-cell\"><p class=\"mid-wrap\">23668 </p></td><td class=\"table-cell\"><p class=\"mid-wrap\">795592 <span class=\"data-down-up\">3509</span></p></td><td class=\"table-cell\"><p class=\"mid-wrap\">6706 <span class=\"data-up\">16</span></p></td></tr>\n",
      "<tr class=\"table-row\"><td class=\"table-cell\"><input class=\"ip\" id=\"st3\" type=\"checkbox\"/><label for=\"st3\">Karnataka</label><div class=\"ddiv\"><div class=\"dist-list\"><span>District</span><span>Cases</span></div><div class=\"dist-list\"><span>Bengaluru Rural</span><span>40</span></div><div class=\"dist-list\"><span>Bengaluru Urban</span><span>529</span></div><div class=\"dist-list\"><span>Mysuru</span><span>107</span></div><div class=\"dist-list\"><span>Bagalkote</span><span>103</span></div><div class=\"dist-list\"><span>Ballari</span><span>60</span></div><div class=\"dist-list\"><span>Belagavi</span><span>337</span></div><div class=\"dist-list\"><span>Bidar</span><span>219</span></div><div class=\"dist-list\"><span>Chikkaballapura</span><span>149</span></div><div class=\"dist-list\"><span>Dakshina Kannada</span><span>179</span></div><div class=\"dist-list\"><span>Dharwad</span><span>61</span></div><div class=\"dist-list\"><span>Gadag</span><span>45</span></div><div class=\"dist-list\"><span>Kalaburagi</span><span>669</span></div><div class=\"dist-list\"><span>Mandya</span><span>346</span></div><div class=\"dist-list\"><span>Tumakuru</span><span>36</span></div><div class=\"dist-list\"><span>Uttara Kannada</span><span>95</span></div><div class=\"dist-list\"><span>Vijayapura</span><span>201</span></div><div class=\"dist-list\"><span>Chamarajanagara</span><span>0</span></div><div class=\"dist-list\"><span>Chikkamagaluru</span><span>19</span></div><div class=\"dist-list\"><span>Chitradurga</span><span>14</span></div><div class=\"dist-list\"><span>Davangere</span><span>204</span></div><div class=\"dist-list\"><span>Hassan</span><span>205</span></div><div class=\"dist-list\"><span>Haveri</span><span>24</span></div><div class=\"dist-list\"><span>Kodagu</span><span>4</span></div><div class=\"dist-list\"><span>Kolar</span><span>29</span></div><div class=\"dist-list\"><span>Koppal</span><span>5</span></div><div class=\"dist-list\"><span>Raichur</span><span>369</span></div><div class=\"dist-list\"><span>Ramanagara</span><span>3</span></div><div class=\"dist-list\"><span>Shivamogga</span><span>67</span></div><div class=\"dist-list\"><span>Udupi</span><span>1176</span></div><div class=\"dist-list\"><span>Yadgir</span><span>538</span></div></div></td><td class=\"table-cell\"><p class=\"mid-wrap\">827064 <span class=\"data-up\">3652</span></p></td><td class=\"table-cell\"><p class=\"mid-wrap\">50611 </p></td><td class=\"table-cell\"><p class=\"mid-wrap\">765261 <span class=\"data-down-up\">8053</span></p></td><td class=\"table-cell\"><p class=\"mid-wrap\">11192 <span class=\"data-up\">24</span></p></td></tr>\n",
      "<tr class=\"table-row\"><td class=\"table-cell\"><input class=\"ip\" id=\"st4\" type=\"checkbox\"/><label for=\"st4\">Goa</label><div class=\"ddiv\"><div class=\"dist-list\"><span>District</span><span>Cases</span></div><div class=\"dist-list\"><span>North Goa</span><span>57</span></div><div class=\"dist-list\"><span>South Goa</span><span>69</span></div></div></td><td class=\"table-cell\"><p class=\"mid-wrap\">43768 <span class=\"data-up\">142</span></p></td><td class=\"table-cell\"><p class=\"mid-wrap\">2244 </p></td><td class=\"table-cell\"><p class=\"mid-wrap\">40915 <span class=\"data-down-up\">237</span></p></td><td class=\"table-cell\"><p class=\"mid-wrap\">609 <span class=\"data-up\">5</span></p></td></tr>\n",
      "<tr class=\"table-row\"><td class=\"table-cell\"><input class=\"ip\" id=\"st5\" type=\"checkbox\"/><label for=\"st5\">Tamil Nadu</label><div class=\"ddiv\"><div class=\"dist-list\"><span>District</span><span>Cases</span></div><div class=\"dist-list\"><span>Chengalpattu</span><span>1314</span></div><div class=\"dist-list\"><span>Chennai</span><span>23324</span></div><div class=\"dist-list\"><span>Kanchipuram</span><span>503</span></div><div class=\"dist-list\"><span>Madurai</span><span>322</span></div><div class=\"dist-list\"><span>Namakkal</span><span>83</span></div><div class=\"dist-list\"><span>Ranipet</span><span>133</span></div><div class=\"dist-list\"><span>Thanjavur</span><span>130</span></div><div class=\"dist-list\"><span>Thiruvallur</span><span>774</span></div><div class=\"dist-list\"><span>Thiruvarur</span><span>67</span></div><div class=\"dist-list\"><span>Tiruppur</span><span>116</span></div><div class=\"dist-list\"><span>Vellore</span><span>71</span></div><div class=\"dist-list\"><span>Virudhunagar</span><span>185</span></div><div class=\"dist-list\"><span>Ariyalur</span><span>444</span></div><div class=\"dist-list\"><span>Coimbatore</span><span>188</span></div><div class=\"dist-list\"><span>Cuddalore</span><span>477</span></div><div class=\"dist-list\"><span>Dharmapuri</span><span>15</span></div><div class=\"dist-list\"><span>Dindigul</span><span>175</span></div><div class=\"dist-list\"><span>Erode</span><span>75</span></div><div class=\"dist-list\"><span>Kallakurichi</span><span>324</span></div><div class=\"dist-list\"><span>Kanniyakumari</span><span>110</span></div><div class=\"dist-list\"><span>Karur</span><span>88</span></div><div class=\"dist-list\"><span>Nagapattinam</span><span>99</span></div><div class=\"dist-list\"><span>Perambalur</span><span>133</span></div><div class=\"dist-list\"><span>Pudukkottai</span><span>53</span></div><div class=\"dist-list\"><span>Ramanathapuram</span><span>119</span></div><div class=\"dist-list\"><span>Salem</span><span>258</span></div><div class=\"dist-list\"><span>Sivaganga</span><span>46</span></div><div class=\"dist-list\"><span>Tenkasi</span><span>103</span></div><div class=\"dist-list\"><span>The Nilgiris</span><span>17</span></div><div class=\"dist-list\"><span>Theni</span><span>129</span></div><div class=\"dist-list\"><span>Tiruchirappalli</span><span>119</span></div><div class=\"dist-list\"><span>Tirunelveli</span><span>433</span></div><div class=\"dist-list\"><span>Tirupathur</span><span>45</span></div><div class=\"dist-list\"><span>Tiruvannamalai</span><span>496</span></div><div class=\"dist-list\"><span>Tuticorin</span><span>333</span></div><div class=\"dist-list\"><span>Villupuram</span><span>509</span></div><div class=\"dist-list\"><span>Krishnagiri</span><span>43</span></div></div></td><td class=\"table-cell\"><p class=\"mid-wrap\">727026 <span class=\"data-up\">2504</span></p></td><td class=\"table-cell\"><p class=\"mid-wrap\">20994 </p></td><td class=\"table-cell\"><p class=\"mid-wrap\">694880 <span class=\"data-down-up\">3644</span></p></td><td class=\"table-cell\"><p class=\"mid-wrap\">11152 <span class=\"data-up\">30</span></p></td></tr>\n",
      "<tr class=\"table-row\"><td class=\"table-cell\"><input class=\"ip\" id=\"st6\" type=\"checkbox\"/><label for=\"st6\">Kerala</label><div class=\"ddiv\"><div class=\"dist-list\"><span>District</span><span>Cases</span></div><div class=\"dist-list\"><span>Kannur</span><span>357</span></div><div class=\"dist-list\"><span>Kottayam</span><span>73</span></div><div class=\"dist-list\"><span>Alappuzha</span><span>76</span></div><div class=\"dist-list\"><span>Idukki</span><span>40</span></div><div class=\"dist-list\"><span>Kasaragod</span><span>333</span></div><div class=\"dist-list\"><span>Kollam</span><span>118</span></div><div class=\"dist-list\"><span>Kozhikode</span><span>90</span></div><div class=\"dist-list\"><span>Malappuram</span><span>119</span></div><div class=\"dist-list\"><span>Palakkad</span><span>224</span></div><div class=\"dist-list\"><span>Pathanamthitta</span><span>98</span></div><div class=\"dist-list\"><span>Thiruvananthapuram</span><span>104</span></div><div class=\"dist-list\"><span>Thrissur</span><span>106</span></div><div class=\"dist-list\"><span>Ernakulam</span><span>60</span></div><div class=\"dist-list\"><span>Wayanad</span><span>36</span></div></div></td><td class=\"table-cell\"><p class=\"mid-wrap\">440130 <span class=\"data-up\">7025</span></p></td><td class=\"table-cell\"><p class=\"mid-wrap\">89783 </p></td><td class=\"table-cell\"><p class=\"mid-wrap\">348835 <span class=\"data-down-up\">8511</span></p></td><td class=\"table-cell\"><p class=\"mid-wrap\">1512 <span class=\"data-up\">28</span></p></td></tr>\n",
      "<tr class=\"table-row\"><td class=\"table-cell\"><input class=\"ip\" id=\"st7\" type=\"checkbox\"/><label for=\"st7\">Chhattisgarh</label><div class=\"ddiv\"><div class=\"dist-list\"><span>District</span><span>Cases</span></div><div class=\"dist-list\"><span>Raipur</span><span>46</span></div><div class=\"dist-list\"><span>Korba</span><span>100</span></div><div class=\"dist-list\"><span>Balod</span><span>41</span></div><div class=\"dist-list\"><span>Baloda Bazar</span><span>85</span></div><div class=\"dist-list\"><span>Balrampur</span><span>17</span></div><div class=\"dist-list\"><span>Bastar</span><span>2</span></div><div class=\"dist-list\"><span>Bemetara</span><span>21</span></div><div class=\"dist-list\"><span>Bijapur</span><span>2</span></div><div class=\"dist-list\"><span>Bilaspur</span><span>100</span></div><div class=\"dist-list\"><span>Dantewada</span><span>0</span></div><div class=\"dist-list\"><span>Dhamtari</span><span>6</span></div><div class=\"dist-list\"><span>Durg</span><span>31</span></div><div class=\"dist-list\"><span>Gariyaband</span><span>10</span></div><div class=\"dist-list\"><span>Janjgir-Champa</span><span>56</span></div><div class=\"dist-list\"><span>Jashpur</span><span>77</span></div><div class=\"dist-list\"><span>Kabirdham</span><span>52</span></div><div class=\"dist-list\"><span>Kanker</span><span>19</span></div><div class=\"dist-list\"><span>Kondagaon</span><span>0</span></div><div class=\"dist-list\"><span>Korea</span><span>39</span></div><div class=\"dist-list\"><span>Mahasamund</span><span>54</span></div><div class=\"dist-list\"><span>Mungeli</span><span>87</span></div><div class=\"dist-list\"><span>Narayanpur</span><span>0</span></div><div class=\"dist-list\"><span>Raigarh</span><span>47</span></div><div class=\"dist-list\"><span>Rajnandgaon</span><span>52</span></div><div class=\"dist-list\"><span>Sukma</span><span>0</span></div><div class=\"dist-list\"><span>Surajpur</span><span>9</span></div><div class=\"dist-list\"><span>Surguja</span><span>14</span></div></div></td><td class=\"table-cell\"><p class=\"mid-wrap\">188813 <span class=\"data-up\">1543</span></p></td><td class=\"table-cell\"><p class=\"mid-wrap\">22126 <span class=\"data-up\">36</span></p></td><td class=\"table-cell\"><p class=\"mid-wrap\">164537 <span class=\"data-down-up\">1458</span></p></td><td class=\"table-cell\"><p class=\"mid-wrap\">2150 <span class=\"data-up\">49</span></p></td></tr>\n",
      "<tr class=\"table-row\"><td class=\"table-cell\"><input class=\"ip\" id=\"st8\" type=\"checkbox\"/><label for=\"st8\">Telangana</label><div class=\"ddiv\"><div class=\"dist-list\"><span>District</span><span>Cases</span></div><div class=\"dist-list\"><span>Hyderabad</span><span>2475</span></div><div class=\"dist-list\"><span>MedchalMalkajgiri</span><span>75</span></div><div class=\"dist-list\"><span>Ranga Reddy</span><span>183</span></div><div class=\"dist-list\"><span>Suryapet</span><span>87</span></div><div class=\"dist-list\"><span>Vikarabad</span><span>40</span></div><div class=\"dist-list\"><span>Warangal Urban</span><span>32</span></div><div class=\"dist-list\"><span>Adilabad</span><span>22</span></div><div class=\"dist-list\"><span>Jagitial</span><span>77</span></div><div class=\"dist-list\"><span>Jangoan</span><span>8</span></div><div class=\"dist-list\"><span>Jayashankar Bhupalapally</span><span>9</span></div><div class=\"dist-list\"><span>Jogulamba Gadwal</span><span>40</span></div><div class=\"dist-list\"><span>Kamareddy</span><span>11</span></div><div class=\"dist-list\"><span>Karimnagar</span><span>17</span></div><div class=\"dist-list\"><span>Khammam</span><span>26</span></div><div class=\"dist-list\"><span>Kumuram Bheem Asifabad</span><span>8</span></div><div class=\"dist-list\"><span>Mahabubnagar</span><span>30</span></div><div class=\"dist-list\"><span>Mancherial</span><span>43</span></div><div class=\"dist-list\"><span>Medak</span><span>11</span></div><div class=\"dist-list\"><span>Nalgonda</span><span>33</span></div><div class=\"dist-list\"><span>Narayanpet</span><span>3</span></div><div class=\"dist-list\"><span>Nirmal</span><span>21</span></div><div class=\"dist-list\"><span>Nizamabad</span><span>76</span></div><div class=\"dist-list\"><span>RajannaSircilla</span><span>16</span></div><div class=\"dist-list\"><span>Sangareddy</span><span>26</span></div><div class=\"dist-list\"><span>Bhadradri Kothagudem</span><span>5</span></div><div class=\"dist-list\"><span>Mahabubabad</span><span>10</span></div><div class=\"dist-list\"><span>Mulugu</span><span>3</span></div><div class=\"dist-list\"><span>Nagarkurnool</span><span>8</span></div><div class=\"dist-list\"><span>Peddapalli</span><span>5</span></div><div class=\"dist-list\"><span>Siddipet</span><span>7</span></div><div class=\"dist-list\"><span>Wanaparthy</span><span>1</span></div><div class=\"dist-list\"><span>Warangal Rural</span><span>4</span></div><div class=\"dist-list\"><span>YadadriBhuvanagiri</span><span>40</span></div></div></td><td class=\"table-cell\"><p class=\"mid-wrap\">240970 <span class=\"data-up\">922</span></p></td><td class=\"table-cell\"><p class=\"mid-wrap\">17630 </p></td><td class=\"table-cell\"><p class=\"mid-wrap\">221992 <span class=\"data-down-up\">1526</span></p></td><td class=\"table-cell\"><p class=\"mid-wrap\">1348 <span class=\"data-up\">7</span></p></td></tr>\n",
      "<tr class=\"table-row\"><td class=\"table-cell\"><input class=\"ip\" id=\"st9\" type=\"checkbox\"/><label for=\"st9\">Odisha</label><div class=\"ddiv\"><div class=\"dist-list\"><span>District</span><span>Cases</span></div><div class=\"dist-list\"><span>Baleshwar</span><span>190</span></div><div class=\"dist-list\"><span>Bhadrak</span><span>137</span></div><div class=\"dist-list\"><span>Jajapur</span><span>322</span></div><div class=\"dist-list\"><span>Dhenkanal</span><span>36</span></div><div class=\"dist-list\"><span>Kalahandi</span><span>33</span></div><div class=\"dist-list\"><span>Kendrapara</span><span>164</span></div><div class=\"dist-list\"><span>Khordha</span><span>238</span></div><div class=\"dist-list\"><span>Koraput</span><span>16</span></div><div class=\"dist-list\"><span>Sundargarh</span><span>102</span></div><div class=\"dist-list\"><span>Anugul</span><span>26</span></div><div class=\"dist-list\"><span>Balangir</span><span>129</span></div><div class=\"dist-list\"><span>Bargarh</span><span>16</span></div><div class=\"dist-list\"><span>Boudh</span><span>34</span></div><div class=\"dist-list\"><span>Cuttack</span><span>155</span></div><div class=\"dist-list\"><span>Deogarh</span><span>33</span></div><div class=\"dist-list\"><span>Gajapati</span><span>61</span></div><div class=\"dist-list\"><span>Ganjam</span><span>581</span></div><div class=\"dist-list\"><span>Jagatsinghapur</span><span>91</span></div><div class=\"dist-list\"><span>Jharsuguda</span><span>8</span></div><div class=\"dist-list\"><span>Kandhamal</span><span>28</span></div><div class=\"dist-list\"><span>Kendujhar</span><span>34</span></div><div class=\"dist-list\"><span>Malkangiri</span><span>20</span></div><div class=\"dist-list\"><span>Mayurbhanj</span><span>73</span></div><div class=\"dist-list\"><span>Nabarangpur</span><span>2</span></div><div class=\"dist-list\"><span>Nayagarh</span><span>86</span></div><div class=\"dist-list\"><span>Nuapada</span><span>69</span></div><div class=\"dist-list\"><span>Puri</span><span>103</span></div><div class=\"dist-list\"><span>Rayagada</span><span>2</span></div><div class=\"dist-list\"><span>Sambalpur</span><span>16</span></div><div class=\"dist-list\"><span>Sonepur</span><span>29</span></div></div></td><td class=\"table-cell\"><p class=\"mid-wrap\">291825 <span class=\"data-up\">1709</span></p></td><td class=\"table-cell\"><p class=\"mid-wrap\">12930 </p></td><td class=\"table-cell\"><p class=\"mid-wrap\">277564 <span class=\"data-down-up\">1815</span></p></td><td class=\"table-cell\"><p class=\"mid-wrap\">1331 <span class=\"data-up\">11</span></p></td></tr>\n",
      "<tr class=\"table-row\"><td class=\"table-cell\"><input class=\"ip\" id=\"st10\" type=\"checkbox\"/><label for=\"st10\">Madhya Pradesh</label><div class=\"ddiv\"><div class=\"dist-list\"><span>District</span><span>Cases</span></div><div class=\"dist-list\"><span>Barwani</span><span>60</span></div><div class=\"dist-list\"><span>Bhopal</span><span>1880</span></div><div class=\"dist-list\"><span>Dewas</span><span>140</span></div><div class=\"dist-list\"><span>Dhar</span><span>132</span></div><div class=\"dist-list\"><span>East Nimar</span><span>266</span></div><div class=\"dist-list\"><span>Gwalior</span><span>211</span></div><div class=\"dist-list\"><span>Indore</span><span>3839</span></div><div class=\"dist-list\"><span>Jabalpur</span><span>276</span></div><div class=\"dist-list\"><span>Ujjain</span><span>799</span></div><div class=\"dist-list\"><span>Agar Malwa</span><span>15</span></div><div class=\"dist-list\"><span>Alirajpur</span><span>3</span></div><div class=\"dist-list\"><span>Betul</span><span>35</span></div><div class=\"dist-list\"><span>Burhanpur</span><span>351</span></div><div class=\"dist-list\"><span>Chhindwara</span><span>16</span></div><div class=\"dist-list\"><span>Dindori</span><span>29</span></div><div class=\"dist-list\"><span>Harda</span><span>4</span></div><div class=\"dist-list\"><span>Hoshangabad</span><span>37</span></div><div class=\"dist-list\"><span>Khargone</span><span>196</span></div><div class=\"dist-list\"><span>Mandsaur</span><span>112</span></div><div class=\"dist-list\"><span>Morena</span><span>109</span></div><div class=\"dist-list\"><span>Raisen</span><span>71</span></div><div class=\"dist-list\"><span>Ratlam</span><span>51</span></div><div class=\"dist-list\"><span>Sagar</span><span>228</span></div><div class=\"dist-list\"><span>Shajapur</span><span>39</span></div><div class=\"dist-list\"><span>Shandol</span><span>14</span></div><div class=\"dist-list\"><span>Sheopur</span><span>26</span></div><div class=\"dist-list\"><span>Tikamgarh</span><span>18</span></div><div class=\"dist-list\"><span>Vidisha</span><span>37</span></div><div class=\"dist-list\"><span>Anuppur</span><span>22</span></div><div class=\"dist-list\"><span>Ashoknagar</span><span>13</span></div><div class=\"dist-list\"><span>Balaghat</span><span>9</span></div><div class=\"dist-list\"><span>Bhind</span><span>87</span></div><div class=\"dist-list\"><span>Chhatarpur</span><span>35</span></div><div class=\"dist-list\"><span>Damoh</span><span>26</span></div><div class=\"dist-list\"><span>Datia</span><span>12</span></div><div class=\"dist-list\"><span>Guna</span><span>8</span></div><div class=\"dist-list\"><span>Jhabua</span><span>14</span></div><div class=\"dist-list\"><span>Katni</span><span>3</span></div><div class=\"dist-list\"><span>Mandla</span><span>15</span></div><div class=\"dist-list\"><span>Narsinghpur</span><span>17</span></div><div class=\"dist-list\"><span>Neemuch</span><span>319</span></div><div class=\"dist-list\"><span>Niwari</span><span>0</span></div><div class=\"dist-list\"><span>Panna</span><span>20</span></div><div class=\"dist-list\"><span>Rajgarh</span><span>31</span></div><div class=\"dist-list\"><span>Rewa</span><span>39</span></div><div class=\"dist-list\"><span>Satna</span><span>24</span></div><div class=\"dist-list\"><span>Sehore</span><span>12</span></div><div class=\"dist-list\"><span>Seoni</span><span>2</span></div><div class=\"dist-list\"><span>Shivpuri</span><span>15</span></div><div class=\"dist-list\"><span>Sidhi</span><span>17</span></div><div class=\"dist-list\"><span>Singrauli</span><span>13</span></div><div class=\"dist-list\"><span>Umaria</span><span>10</span></div></div></td><td class=\"table-cell\"><p class=\"mid-wrap\">172082 <span class=\"data-up\">723</span></p></td><td class=\"table-cell\"><p class=\"mid-wrap\">8538 </p></td><td class=\"table-cell\"><p class=\"mid-wrap\">160586 <span class=\"data-down-up\">1107</span></p></td><td class=\"table-cell\"><p class=\"mid-wrap\">2958 <span class=\"data-up\">7</span></p></td></tr>\n",
      "<tr class=\"table-row\"><td class=\"table-cell\"><input class=\"ip\" id=\"st11\" type=\"checkbox\"/><label for=\"st11\">Gujarat</label><div class=\"ddiv\"><div class=\"dist-list\"><span>District</span><span>Cases</span></div><div class=\"dist-list\"><span>Ahmadabad</span><span>17125</span></div><div class=\"dist-list\"><span>Anand</span><span>107</span></div><div class=\"dist-list\"><span>Arvalli</span><span>134</span></div><div class=\"dist-list\"><span>Banas Kantha</span><span>147</span></div><div class=\"dist-list\"><span>Bhavnagar</span><span>146</span></div><div class=\"dist-list\"><span>Gandhinagar</span><span>410</span></div><div class=\"dist-list\"><span>PanchMahals</span><span>107</span></div><div class=\"dist-list\"><span>Surat</span><span>2311</span></div><div class=\"dist-list\"><span>Vadodara</span><span>1555</span></div><div class=\"dist-list\"><span>Bharuch</span><span>56</span></div><div class=\"dist-list\"><span>Botad</span><span>55</span></div><div class=\"dist-list\"><span>Chhotaudepur</span><span>37</span></div><div class=\"dist-list\"><span>Dang</span><span>5</span></div><div class=\"dist-list\"><span>Dohad</span><span>43</span></div><div class=\"dist-list\"><span>GirSomnath</span><span>45</span></div><div class=\"dist-list\"><span>Jamnagar</span><span>63</span></div><div class=\"dist-list\"><span>Kachchh</span><span>99</span></div><div class=\"dist-list\"><span>Kheda</span><span>98</span></div><div class=\"dist-list\"><span>Mahesana</span><span>159</span></div><div class=\"dist-list\"><span>Mahisagar</span><span>125</span></div><div class=\"dist-list\"><span>Narmada</span><span>25</span></div><div class=\"dist-list\"><span>Naysari</span><span>35</span></div><div class=\"dist-list\"><span>Patan</span><span>105</span></div><div class=\"dist-list\"><span>Rajkot</span><span>135</span></div><div class=\"dist-list\"><span>SabarKantha</span><span>101</span></div><div class=\"dist-list\"><span>Surendranagar</span><span>55</span></div><div class=\"dist-list\"><span>Tapi</span><span>6</span></div><div class=\"dist-list\"><span>Valsad</span><span>47</span></div><div class=\"dist-list\"><span>Amreli</span><span>16</span></div><div class=\"dist-list\"><span>DevbhumiDwarka</span><span>22</span></div><div class=\"dist-list\"><span>Junagadh</span><span>31</span></div><div class=\"dist-list\"><span>Morbi</span><span>4</span></div><div class=\"dist-list\"><span>Porbandar</span><span>11</span></div></div></td><td class=\"table-cell\"><p class=\"mid-wrap\">173642 <span class=\"data-up\">860</span></p></td><td class=\"table-cell\"><p class=\"mid-wrap\">12811 </p></td><td class=\"table-cell\"><p class=\"mid-wrap\">157110 <span class=\"data-down-up\">1128</span></p></td><td class=\"table-cell\"><p class=\"mid-wrap\">3721 <span class=\"data-up\">5</span></p></td></tr>\n",
      "<tr class=\"table-row\"><td class=\"table-cell\"><input class=\"ip\" id=\"st12\" type=\"checkbox\"/><label for=\"st12\">Rajasthan</label><div class=\"ddiv\"><div class=\"dist-list\"><span>District</span><span>Cases</span></div><div class=\"dist-list\"><span>Ajmer</span><span>379</span></div><div class=\"dist-list\"><span>Banswara</span><span>91</span></div><div class=\"dist-list\"><span>Bharatpur</span><span>563</span></div><div class=\"dist-list\"><span>Jaipur</span><span>2177</span></div><div class=\"dist-list\"><span>Jhalawar</span><span>329</span></div><div class=\"dist-list\"><span>Jodhpur</span><span>1748</span></div><div class=\"dist-list\"><span>Kota</span><span>503</span></div><div class=\"dist-list\"><span>Nagaur</span><span>500</span></div><div class=\"dist-list\"><span>Alwar</span><span>90</span></div><div class=\"dist-list\"><span>Barmer</span><span>34</span></div><div class=\"dist-list\"><span>Bhilwara</span><span>250</span></div><div class=\"dist-list\"><span>Bikaner</span><span>112</span></div><div class=\"dist-list\"><span>Chittorgarh</span><span>188</span></div><div class=\"dist-list\"><span>Churu</span><span>81</span></div><div class=\"dist-list\"><span>Dausa</span><span>61</span></div><div class=\"dist-list\"><span>Dholpur</span><span>60</span></div><div class=\"dist-list\"><span>Dungarpur</span><span>374</span></div><div class=\"dist-list\"><span>Hanumangarh</span><span>31</span></div><div class=\"dist-list\"><span>Jaisalmer</span><span>53</span></div><div class=\"dist-list\"><span>Jhunjhunu</span><span>64</span></div><div class=\"dist-list\"><span>Karauli</span><span>17</span></div><div class=\"dist-list\"><span>Pali</span><span>352</span></div><div class=\"dist-list\"><span>Rajsamand</span><span>140</span></div><div class=\"dist-list\"><span>SawaiMadhopur</span><span>26</span></div><div class=\"dist-list\"><span>Sikar</span><span>231</span></div><div class=\"dist-list\"><span>Tonk</span><span>171</span></div><div class=\"dist-list\"><span>Udaipur</span><span>724</span></div><div class=\"dist-list\"><span>Baran</span><span>59</span></div><div class=\"dist-list\"><span>Bundi</span><span>5</span></div><div class=\"dist-list\"><span>Ganganagar</span><span>8</span></div><div class=\"dist-list\"><span>Jalore</span><span>164</span></div><div class=\"dist-list\"><span>Pratapgarh</span><span>14</span></div><div class=\"dist-list\"><span>Sirohi</span><span>130</span></div></div></td><td class=\"table-cell\"><p class=\"mid-wrap\">198747 <span class=\"data-up\">1754</span></p></td><td class=\"table-cell\"><p class=\"mid-wrap\">15255 <span class=\"data-up\">153</span></p></td><td class=\"table-cell\"><p class=\"mid-wrap\">181575 <span class=\"data-down-up\">1591</span></p></td><td class=\"table-cell\"><p class=\"mid-wrap\">1917 <span class=\"data-up\">10</span></p></td></tr>\n",
      "<tr class=\"table-row\"><td class=\"table-cell\"><input class=\"ip\" id=\"st13\" type=\"checkbox\"/><label for=\"st13\">Haryana</label><div class=\"ddiv\"><div class=\"dist-list\"><span>District</span><span>Cases</span></div><div class=\"dist-list\"><span>Faridabad</span><span>867</span></div><div class=\"dist-list\"><span>Sonipat</span><span>404</span></div><div class=\"dist-list\"><span>Ambala</span><span>93</span></div><div class=\"dist-list\"><span>Bhiwani</span><span>60</span></div><div class=\"dist-list\"><span>CharkiDadri</span><span>43</span></div><div class=\"dist-list\"><span>Fatehabad</span><span>38</span></div><div class=\"dist-list\"><span>Gurugram</span><span>2950</span></div><div class=\"dist-list\"><span>Hisar</span><span>98</span></div><div class=\"dist-list\"><span>Jhajjar</span><span>114</span></div><div class=\"dist-list\"><span>Jind</span><span>38</span></div><div class=\"dist-list\"><span>Kaithal</span><span>48</span></div><div class=\"dist-list\"><span>Karnal</span><span>104</span></div><div class=\"dist-list\"><span>Kurukshetra</span><span>55</span></div><div class=\"dist-list\"><span>Nuh</span><span>68</span></div><div class=\"dist-list\"><span>Palwal</span><span>120</span></div><div class=\"dist-list\"><span>Panchkula</span><span>39</span></div><div class=\"dist-list\"><span>Panipat</span><span>78</span></div><div class=\"dist-list\"><span>Rohtak</span><span>145</span></div><div class=\"dist-list\"><span>Sirsa</span><span>50</span></div><div class=\"dist-list\"><span>Yamunanagar</span><span>19</span></div><div class=\"dist-list\"><span>Mahendragarh</span><span>47</span></div><div class=\"dist-list\"><span>Rewari</span><span>56</span></div></div></td><td class=\"table-cell\"><p class=\"mid-wrap\">168880 <span class=\"data-up\">1670</span></p></td><td class=\"table-cell\"><p class=\"mid-wrap\">12634 <span class=\"data-up\">443</span></p></td><td class=\"table-cell\"><p class=\"mid-wrap\">154451 <span class=\"data-down-up\">1221</span></p></td><td class=\"table-cell\"><p class=\"mid-wrap\">1795 <span class=\"data-up\">6</span></p></td></tr>\n",
      "<tr class=\"table-row\"><td class=\"table-cell\"><input class=\"ip\" id=\"st14\" type=\"checkbox\"/><label for=\"st14\">Uttar Pradesh</label><div class=\"ddiv\"><div class=\"dist-list\"><span>District</span><span>Cases</span></div><div class=\"dist-list\"><span>Agra</span><span>933</span></div><div class=\"dist-list\"><span>Aligarh</span><span>215</span></div><div class=\"dist-list\"><span>Amroha</span><span>80</span></div><div class=\"dist-list\"><span>Bareilly</span><span>17</span></div><div class=\"dist-list\"><span>Bijnor</span><span>157</span></div><div class=\"dist-list\"><span>Bulandshahr</span><span>166</span></div><div class=\"dist-list\"><span>Firozabad</span><span>190</span></div><div class=\"dist-list\"><span>Gautam Buddha Nagar</span><span>1119</span></div><div class=\"dist-list\"><span>Kanpur Nagar</span><span>286</span></div><div class=\"dist-list\"><span>Lucknow</span><span>386</span></div><div class=\"dist-list\"><span>Mathura</span><span>129</span></div><div class=\"dist-list\"><span>Meerut</span><span>504</span></div><div class=\"dist-list\"><span>Moradabad</span><span>252</span></div><div class=\"dist-list\"><span>Muzaffarnagar</span><span>117</span></div><div class=\"dist-list\"><span>Rae Bareli</span><span>78</span></div><div class=\"dist-list\"><span>Rampur</span><span>203</span></div><div class=\"dist-list\"><span>Saharanpur</span><span>298</span></div><div class=\"dist-list\"><span>Sant Kabeer Nagar</span><span>132</span></div><div class=\"dist-list\"><span>Varanasi</span><span>243</span></div><div class=\"dist-list\"><span>Auraiya</span><span>37</span></div><div class=\"dist-list\"><span>Ayodhya</span><span>120</span></div><div class=\"dist-list\"><span>Azamgarh</span><span>138</span></div><div class=\"dist-list\"><span>Baghpat</span><span>68</span></div><div class=\"dist-list\"><span>Bahraich</span><span>73</span></div><div class=\"dist-list\"><span>Balrampur</span><span>49</span></div><div class=\"dist-list\"><span>Banda</span><span>27</span></div><div class=\"dist-list\"><span>Basti</span><span>214</span></div><div class=\"dist-list\"><span>Bhadohi</span><span>60</span></div><div class=\"dist-list\"><span>Budaun</span><span>23</span></div><div class=\"dist-list\"><span>Etah</span><span>52</span></div><div class=\"dist-list\"><span>Etawah</span><span>46</span></div><div class=\"dist-list\"><span>Ghaziabad</span><span>794</span></div><div class=\"dist-list\"><span>Ghazipur</span><span>159</span></div><div class=\"dist-list\"><span>Gonda</span><span>59</span></div><div class=\"dist-list\"><span>Gorakhpur</span><span>166</span></div><div class=\"dist-list\"><span>Hapur</span><span>225</span></div><div class=\"dist-list\"><span>Hardoi</span><span>49</span></div><div class=\"dist-list\"><span>Jalaun</span><span>41</span></div><div class=\"dist-list\"><span>Jaunpur</span><span>194</span></div><div class=\"dist-list\"><span>Jhansi</span><span>41</span></div><div class=\"dist-list\"><span>Kannauj</span><span>69</span></div><div class=\"dist-list\"><span>Kasganj</span><span>16</span></div><div class=\"dist-list\"><span>Kaushambi</span><span>6</span></div><div class=\"dist-list\"><span>Mainpuri</span><span>46</span></div><div class=\"dist-list\"><span>Mau</span><span>48</span></div><div class=\"dist-list\"><span>Mirzapur</span><span>22</span></div><div class=\"dist-list\"><span>Pilibhit</span><span>15</span></div><div class=\"dist-list\"><span>Pratapgarh</span><span>15</span></div><div class=\"dist-list\"><span>Prayagraj</span><span>30</span></div><div class=\"dist-list\"><span>Sambhal</span><span>116</span></div><div class=\"dist-list\"><span>Shamli</span><span>40</span></div><div class=\"dist-list\"><span>Shravasti</span><span>23</span></div><div class=\"dist-list\"><span>Sitapur</span><span>32</span></div><div class=\"dist-list\"><span>Sultanpur</span><span>97</span></div><div class=\"dist-list\"><span>Unnao</span><span>42</span></div><div class=\"dist-list\"><span>Ambedkar Nagar</span><span>92</span></div><div class=\"dist-list\"><span>Amethi</span><span>206</span></div><div class=\"dist-list\"><span>Ballia</span><span>60</span></div><div class=\"dist-list\"><span>Barabanki</span><span>168</span></div><div class=\"dist-list\"><span>Chandauli</span><span>38</span></div><div class=\"dist-list\"><span>Chitrakoot</span><span>4</span></div><div class=\"dist-list\"><span>Deoria</span><span>143</span></div><div class=\"dist-list\"><span>Farrukhabad</span><span>36</span></div><div class=\"dist-list\"><span>Fatehpur</span><span>3</span></div><div class=\"dist-list\"><span>Hamirpur</span><span>3</span></div><div class=\"dist-list\"><span>Hathras</span><span>43</span></div><div class=\"dist-list\"><span>Kanpur Dehat</span><span>4</span></div><div class=\"dist-list\"><span>Kheri</span><span>72</span></div><div class=\"dist-list\"><span>Kushi Nagar</span><span>67</span></div><div class=\"dist-list\"><span>Lalitpur</span><span>3</span></div><div class=\"dist-list\"><span>Maharajganj</span><span>85</span></div><div class=\"dist-list\"><span>Mahoba</span><span>3</span></div><div class=\"dist-list\"><span>Shahjahanpur</span><span>25</span></div><div class=\"dist-list\"><span>Siddharth Nagar</span><span>159</span></div><div class=\"dist-list\"><span>Sonbhadra</span><span>10</span></div></div></td><td class=\"table-cell\"><p class=\"mid-wrap\">483832 <span class=\"data-up\">1969</span></p></td><td class=\"table-cell\"><p class=\"mid-wrap\">23323 </p></td><td class=\"table-cell\"><p class=\"mid-wrap\">453458 <span class=\"data-down-up\">2388</span></p></td><td class=\"table-cell\"><p class=\"mid-wrap\">7051 <span class=\"data-up\">26</span></p></td></tr>\n",
      "<tr class=\"table-row\"><td class=\"table-cell\"><input class=\"ip\" id=\"st15\" type=\"checkbox\"/><label for=\"st15\">Delhi</label><div class=\"ddiv\"><div class=\"dist-list\"><span>District</span><span>Cases</span></div><div class=\"dist-list\"><span>Central</span><span>4817</span></div><div class=\"dist-list\"><span>East</span><span>2472</span></div><div class=\"dist-list\"><span>New Delhi</span><span>3405</span></div><div class=\"dist-list\"><span>North</span><span>3059</span></div><div class=\"dist-list\"><span>North East</span><span>1914</span></div><div class=\"dist-list\"><span>North West</span><span>5463</span></div><div class=\"dist-list\"><span>Shahdara</span><span>1580</span></div><div class=\"dist-list\"><span>South</span><span>2329</span></div><div class=\"dist-list\"><span>South East</span><span>2446</span></div><div class=\"dist-list\"><span>South West</span><span>2391</span></div><div class=\"dist-list\"><span>West</span><span>4768</span></div></div></td><td class=\"table-cell\"><p class=\"mid-wrap\">392370 <span class=\"data-up\">5664</span></p></td><td class=\"table-cell\"><p class=\"mid-wrap\">34173 <span class=\"data-up\">1454</span></p></td><td class=\"table-cell\"><p class=\"mid-wrap\">351635 <span class=\"data-down-up\">4159</span></p></td><td class=\"table-cell\"><p class=\"mid-wrap\">6562 <span class=\"data-up\">51</span></p></td></tr>\n",
      "<tr class=\"table-row\"><td class=\"table-cell\"><input class=\"ip\" id=\"st16\" type=\"checkbox\"/><label for=\"st16\">Assam</label><div class=\"ddiv\"><div class=\"dist-list\"><span>District</span><span>Cases</span></div><div class=\"dist-list\"><span>Dhubri</span><span>30</span></div><div class=\"dist-list\"><span>Goalpara</span><span>19</span></div><div class=\"dist-list\"><span>Marigaon</span><span>50</span></div><div class=\"dist-list\"><span>Baksa</span><span>14</span></div><div class=\"dist-list\"><span>Barpeta</span><span>28</span></div><div class=\"dist-list\"><span>Biswanath</span><span>16</span></div><div class=\"dist-list\"><span>Bongaigaon</span><span>12</span></div><div class=\"dist-list\"><span>Cachar</span><span>80</span></div><div class=\"dist-list\"><span>Charaideo</span><span>29</span></div><div class=\"dist-list\"><span>Chirang</span><span>6</span></div><div class=\"dist-list\"><span>Darrang</span><span>20</span></div><div class=\"dist-list\"><span>Dhemaji</span><span>47</span></div><div class=\"dist-list\"><span>Dibrugarh</span><span>61</span></div><div class=\"dist-list\"><span>Dima Hasao</span><span>86</span></div><div class=\"dist-list\"><span>Golaghat</span><span>203</span></div><div class=\"dist-list\"><span>Hailakandi</span><span>57</span></div><div class=\"dist-list\"><span>Hojai</span><span>89</span></div><div class=\"dist-list\"><span>Jorhat</span><span>24</span></div><div class=\"dist-list\"><span>Kamrup</span><span>42</span></div><div class=\"dist-list\"><span>Kamrup Metro</span><span>276</span></div><div class=\"dist-list\"><span>KarbiAnglong</span><span>13</span></div><div class=\"dist-list\"><span>Karimganj</span><span>85</span></div><div class=\"dist-list\"><span>Kokrajhar</span><span>37</span></div><div class=\"dist-list\"><span>Lakhimpur</span><span>57</span></div><div class=\"dist-list\"><span>Majuli</span><span>2</span></div><div class=\"dist-list\"><span>Nagaon</span><span>143</span></div><div class=\"dist-list\"><span>Nalbari</span><span>23</span></div><div class=\"dist-list\"><span>Sivasagar</span><span>20</span></div><div class=\"dist-list\"><span>Sonitpur</span><span>27</span></div><div class=\"dist-list\"><span>South SalmaraMancachar</span><span>4</span></div><div class=\"dist-list\"><span>Tinsukia</span><span>84</span></div><div class=\"dist-list\"><span>Udalguri</span><span>28</span></div><div class=\"dist-list\"><span>West KarbiAnglong</span><span>5</span></div></div></td><td class=\"table-cell\"><p class=\"mid-wrap\">206517 <span class=\"data-up\">166</span></p></td><td class=\"table-cell\"><p class=\"mid-wrap\">8802 </p></td><td class=\"table-cell\"><p class=\"mid-wrap\">196784 <span class=\"data-down-up\">730</span></p></td><td class=\"table-cell\"><p class=\"mid-wrap\">931 <span class=\"data-up\">1</span></p></td></tr>\n",
      "<tr class=\"table-row\"><td class=\"table-cell\"><input class=\"ip\" id=\"st17\" type=\"checkbox\"/><label for=\"st17\">Sikkim</label><div class=\"ddiv\"><div class=\"dist-list\"><span>District</span><span>Cases</span></div><div class=\"dist-list\"><span>East District</span><span>3</span></div><div class=\"dist-list\"><span>North District</span><span>0</span></div><div class=\"dist-list\"><span>South District</span><span>3</span></div><div class=\"dist-list\"><span>West District</span><span>0</span></div></div></td><td class=\"table-cell\"><p class=\"mid-wrap\">3958 <span class=\"data-up\">18</span></p></td><td class=\"table-cell\"><p class=\"mid-wrap\">234 </p></td><td class=\"table-cell\"><p class=\"mid-wrap\">3651 <span class=\"data-down-up\">34</span></p></td><td class=\"table-cell\"><p class=\"mid-wrap\">73 <span class=\"data-up\">1</span></p></td></tr>\n",
      "<tr class=\"table-row\"><td class=\"table-cell\"><input class=\"ip\" id=\"st18\" type=\"checkbox\"/><label for=\"st18\">Bihar</label><div class=\"ddiv\"><div class=\"dist-list\"><span>District</span><span>Cases</span></div><div class=\"dist-list\"><span>Buxar</span><span>134</span></div><div class=\"dist-list\"><span>Gaya</span><span>115</span></div><div class=\"dist-list\"><span>Munger</span><span>188</span></div><div class=\"dist-list\"><span>Patna</span><span>279</span></div><div class=\"dist-list\"><span>Rohtas</span><span>256</span></div><div class=\"dist-list\"><span>Arwal</span><span>52</span></div><div class=\"dist-list\"><span>Aurangabad</span><span>75</span></div><div class=\"dist-list\"><span>Banka</span><span>134</span></div><div class=\"dist-list\"><span>Begusarai</span><span>243</span></div><div class=\"dist-list\"><span>Bhagalpur</span><span>266</span></div><div class=\"dist-list\"><span>Bhojpur</span><span>103</span></div><div class=\"dist-list\"><span>Darbhanga</span><span>143</span></div><div class=\"dist-list\"><span>Gopalganj</span><span>123</span></div><div class=\"dist-list\"><span>Jehanabad</span><span>178</span></div><div class=\"dist-list\"><span>Kaimur (bhabua)</span><span>105</span></div><div class=\"dist-list\"><span>Lakhisarai</span><span>72</span></div><div class=\"dist-list\"><span>Madhepura</span><span>82</span></div><div class=\"dist-list\"><span>Madhubani</span><span>199</span></div><div class=\"dist-list\"><span>Nalanda</span><span>123</span></div><div class=\"dist-list\"><span>Nawada</span><span>122</span></div><div class=\"dist-list\"><span>PurbiChamparan</span><span>138</span></div><div class=\"dist-list\"><span>Purnia</span><span>135</span></div><div class=\"dist-list\"><span>Saran</span><span>101</span></div><div class=\"dist-list\"><span>Siwan</span><span>139</span></div><div class=\"dist-list\"><span>Vaishali</span><span>87</span></div><div class=\"dist-list\"><span>Araria</span><span>68</span></div><div class=\"dist-list\"><span>Jamui</span><span>47</span></div><div class=\"dist-list\"><span>Katihar</span><span>175</span></div><div class=\"dist-list\"><span>Khagaria</span><span>253</span></div><div class=\"dist-list\"><span>Kishanganj</span><span>75</span></div><div class=\"dist-list\"><span>Muzaffarpur</span><span>96</span></div><div class=\"dist-list\"><span>Pashchim Champaran</span><span>57</span></div><div class=\"dist-list\"><span>Saharsa</span><span>88</span></div><div class=\"dist-list\"><span>Samastipur</span><span>139</span></div><div class=\"dist-list\"><span>Sheikhpura</span><span>118</span></div><div class=\"dist-list\"><span>Sheohar</span><span>20</span></div><div class=\"dist-list\"><span>Sitamarhi</span><span>73</span></div><div class=\"dist-list\"><span>Supaul</span><span>87</span></div></div></td><td class=\"table-cell\"><p class=\"mid-wrap\">216707 <span class=\"data-up\">621</span></p></td><td class=\"table-cell\"><p class=\"mid-wrap\">6966 </p></td><td class=\"table-cell\"><p class=\"mid-wrap\">208644 <span class=\"data-down-up\">1164</span></p></td><td class=\"table-cell\"><p class=\"mid-wrap\">1097 <span class=\"data-up\">7</span></p></td></tr>\n",
      "<tr class=\"table-row\"><td class=\"table-cell\"><input class=\"ip\" id=\"st19\" type=\"checkbox\"/><label for=\"st19\">West Bengal</label><div class=\"ddiv\"><div class=\"dist-list\"><span>District</span><span>Cases</span></div><div class=\"dist-list\"><span>24 Paraganas North</span><span>1031</span></div><div class=\"dist-list\"><span>24 Paraganas South</span><span>281</span></div><div class=\"dist-list\"><span>Darjeeling</span><span>97</span></div><div class=\"dist-list\"><span>Howrah</span><span>1435</span></div><div class=\"dist-list\"><span>Jalpaiguri</span><span>88</span></div><div class=\"dist-list\"><span>Kalimpong</span><span>18</span></div><div class=\"dist-list\"><span>Kolkata</span><span>2777</span></div><div class=\"dist-list\"><span>Maldah</span><span>235</span></div><div class=\"dist-list\"><span>Medinipur East</span><span>153</span></div><div class=\"dist-list\"><span>Medinipur West</span><span>159</span></div><div class=\"dist-list\"><span>Hooghly</span><span>604</span></div><div class=\"dist-list\"><span>Murshidabad</span><span>125</span></div><div class=\"dist-list\"><span>Nadia</span><span>139</span></div><div class=\"dist-list\"><span>Paschim Bardhaman</span><span>70</span></div><div class=\"dist-list\"><span>Purba Bardhaman</span><span>130</span></div><div class=\"dist-list\"><span>Alipurduar</span><span>39</span></div><div class=\"dist-list\"><span>Bankura</span><span>116</span></div><div class=\"dist-list\"><span>Birbhum</span><span>206</span></div><div class=\"dist-list\"><span>Coochbehar</span><span>210</span></div><div class=\"dist-list\"><span>Dinajpur Dakshin</span><span>50</span></div><div class=\"dist-list\"><span>Dinajpur Uttar</span><span>216</span></div><div class=\"dist-list\"><span>Jhargram</span><span>9</span></div><div class=\"dist-list\"><span>Purulia</span><span>66</span></div></div></td><td class=\"table-cell\"><p class=\"mid-wrap\">377651 <span class=\"data-up\">3987</span></p></td><td class=\"table-cell\"><p class=\"mid-wrap\">36761 </p></td><td class=\"table-cell\"><p class=\"mid-wrap\">333990 <span class=\"data-down-up\">4053</span></p></td><td class=\"table-cell\"><p class=\"mid-wrap\">6900 <span class=\"data-up\">59</span></p></td></tr>\n",
      "<tr class=\"table-row\"><td class=\"table-cell\"><input class=\"ip\" id=\"st20\" type=\"checkbox\"/><label for=\"st20\">Andaman And Nicobar Islands</label><div class=\"ddiv\"><div class=\"dist-list\"><span>District</span><span>Cases</span></div><div class=\"dist-list\"><span>South Andamans</span><span>33</span></div><div class=\"dist-list\"><span>Nicobars</span><span>1</span></div><div class=\"dist-list\"><span>North And Middle Andaman</span><span>1</span></div></div></td><td class=\"table-cell\"><p class=\"mid-wrap\">4340 <span class=\"data-up\">8</span></p></td><td class=\"table-cell\"><p class=\"mid-wrap\">168 </p></td><td class=\"table-cell\"><p class=\"mid-wrap\">4112 <span class=\"data-down-up\">12</span></p></td><td class=\"table-cell\"><p class=\"mid-wrap\">60 <span class=\"data-up\">1</span></p></td></tr>\n",
      "<tr class=\"table-row\"><td class=\"table-cell\"><input class=\"ip\" id=\"st21\" type=\"checkbox\"/><label for=\"st21\">Puducherry</label><div class=\"ddiv\"><div class=\"dist-list\"><span>District</span><span>Cases</span></div><div class=\"dist-list\"><span>Pondicherry</span><span>111</span></div><div class=\"dist-list\"><span>Karaikal</span><span>2</span></div><div class=\"dist-list\"><span>Mahe</span><span>4</span></div><div class=\"dist-list\"><span>Yanam</span><span>0</span></div></div></td><td class=\"table-cell\"><p class=\"mid-wrap\">35109 <span class=\"data-up\">96</span></p></td><td class=\"table-cell\"><p class=\"mid-wrap\">3169 </p></td><td class=\"table-cell\"><p class=\"mid-wrap\">31345 <span class=\"data-down-up\">621</span></p></td><td class=\"table-cell\"><p class=\"mid-wrap\">595 <span class=\"data-up\">3</span></p></td></tr>\n",
      "<tr class=\"table-row\"><td class=\"table-cell\"><input class=\"ip\" id=\"st22\" type=\"checkbox\"/><label for=\"st22\">Arunachal Pradesh</label><div class=\"ddiv\"><div class=\"dist-list\"><span>District</span><span>Cases</span></div><div class=\"dist-list\"><span>Anjaw</span><span>0</span></div><div class=\"dist-list\"><span>Changlang</span><span>31</span></div><div class=\"dist-list\"><span>Dibang Valley</span><span>0</span></div><div class=\"dist-list\"><span>East Kameng</span><span>0</span></div><div class=\"dist-list\"><span>East Siang</span><span>1</span></div><div class=\"dist-list\"><span>Kamle</span><span>0</span></div><div class=\"dist-list\"><span>KraDaadi</span><span>0</span></div><div class=\"dist-list\"><span>KurungKumey</span><span>0</span></div><div class=\"dist-list\"><span>Leparada</span><span>0</span></div><div class=\"dist-list\"><span>Lohit</span><span>3</span></div><div class=\"dist-list\"><span>Longding</span><span>0</span></div><div class=\"dist-list\"><span>Lower Dibang Valley</span><span>0</span></div><div class=\"dist-list\"><span>Lower Siang</span><span>0</span></div><div class=\"dist-list\"><span>Lower Subansiri</span><span>0</span></div><div class=\"dist-list\"><span>Namsai</span><span>2</span></div><div class=\"dist-list\"><span>PakkeKessang</span><span>1</span></div><div class=\"dist-list\"><span>Papum Pare</span><span>8</span></div><div class=\"dist-list\"><span>Shi Yomi</span><span>0</span></div><div class=\"dist-list\"><span>Siang</span><span>0</span></div><div class=\"dist-list\"><span>Tawang</span><span>1</span></div><div class=\"dist-list\"><span>Tirap</span><span>0</span></div><div class=\"dist-list\"><span>Upper Siang</span><span>1</span></div><div class=\"dist-list\"><span>Upper Subansiri</span><span>0</span></div><div class=\"dist-list\"><span>West Kameng</span><span>0</span></div><div class=\"dist-list\"><span>West Siang</span><span>1</span></div></div></td><td class=\"table-cell\"><p class=\"mid-wrap\">14881 <span class=\"data-up\">29</span></p></td><td class=\"table-cell\"><p class=\"mid-wrap\">1771 </p></td><td class=\"table-cell\"><p class=\"mid-wrap\">13073 <span class=\"data-down-up\">114</span></p></td><td class=\"table-cell\"><p class=\"mid-wrap\">37 </p></td></tr>\n",
      "<tr class=\"table-row\"><td class=\"table-cell\"><input class=\"ip\" id=\"st23\" type=\"checkbox\"/><label for=\"st23\">Nagaland</label><div class=\"ddiv\"><div class=\"dist-list\"><span>District</span><span>Cases</span></div><div class=\"dist-list\"><span>Dimapur</span><span>20</span></div><div class=\"dist-list\"><span>Kiphire</span><span>3</span></div><div class=\"dist-list\"><span>Kohima</span><span>7</span></div><div class=\"dist-list\"><span>Longleng</span><span>0</span></div><div class=\"dist-list\"><span>Mokokchung</span><span>0</span></div><div class=\"dist-list\"><span>Mon</span><span>8</span></div><div class=\"dist-list\"><span>Peren</span><span>2</span></div><div class=\"dist-list\"><span>Phek</span><span>1</span></div><div class=\"dist-list\"><span>Tuensang</span><span>3</span></div><div class=\"dist-list\"><span>Wokha</span><span>0</span></div><div class=\"dist-list\"><span>Zunheboto</span><span>0</span></div></div></td><td class=\"table-cell\"><p class=\"mid-wrap\">9075 <span class=\"data-up\">28</span></p></td><td class=\"table-cell\"><p class=\"mid-wrap\">1501 </p></td><td class=\"table-cell\"><p class=\"mid-wrap\">7535 <span class=\"data-down-up\">81</span></p></td><td class=\"table-cell\"><p class=\"mid-wrap\">39 </p></td></tr>\n",
      "<tr class=\"table-row\"><td class=\"table-cell\"><input class=\"ip\" id=\"st24\" type=\"checkbox\"/><label for=\"st24\">Dadra And Nagar Haveli</label><div class=\"ddiv\"><div class=\"dist-list\"><span>District</span><span>Cases</span></div><div class=\"dist-list\"><span>Dadra And Nagar Haveli</span><span>20</span></div></div></td><td class=\"table-cell\"><p class=\"mid-wrap\">3255 <span class=\"data-up\">4</span></p></td><td class=\"table-cell\"><p class=\"mid-wrap\">34 </p></td><td class=\"table-cell\"><p class=\"mid-wrap\">3219 <span class=\"data-down-up\">9</span></p></td><td class=\"table-cell\"><p class=\"mid-wrap\">2 </p></td></tr>\n",
      "<tr class=\"table-row\"><td class=\"table-cell\"><input class=\"ip\" id=\"st25\" type=\"checkbox\"/><label for=\"st25\">Jharkhand</label><div class=\"ddiv\"><div class=\"dist-list\"><span>District</span><span>Cases</span></div><div class=\"dist-list\"><span>Ranchi</span><span>148</span></div><div class=\"dist-list\"><span>Bokaro</span><span>16</span></div><div class=\"dist-list\"><span>Deoghar</span><span>5</span></div><div class=\"dist-list\"><span>Dhanbad</span><span>32</span></div><div class=\"dist-list\"><span>Garhwa</span><span>80</span></div><div class=\"dist-list\"><span>Giridih</span><span>19</span></div><div class=\"dist-list\"><span>Hazaribagh</span><span>110</span></div><div class=\"dist-list\"><span>Jamtara</span><span>2</span></div><div class=\"dist-list\"><span>Koderma</span><span>58</span></div><div class=\"dist-list\"><span>Simdega</span><span>48</span></div><div class=\"dist-list\"><span>Chatra</span><span>1</span></div><div class=\"dist-list\"><span>Dumka</span><span>5</span></div><div class=\"dist-list\"><span>East Singhbum</span><span>170</span></div><div class=\"dist-list\"><span>Godda</span><span>2</span></div><div class=\"dist-list\"><span>Gumla</span><span>28</span></div><div class=\"dist-list\"><span>Khunti</span><span>10</span></div><div class=\"dist-list\"><span>Latehar</span><span>14</span></div><div class=\"dist-list\"><span>Lohardaga</span><span>8</span></div><div class=\"dist-list\"><span>Pakur</span><span>4</span></div><div class=\"dist-list\"><span>Palamu</span><span>27</span></div><div class=\"dist-list\"><span>Ramgarh</span><span>75</span></div><div class=\"dist-list\"><span>Sahebganj</span><span>0</span></div><div class=\"dist-list\"><span>SaraikelaKharsawan</span><span>20</span></div><div class=\"dist-list\"><span>West Singhbhum</span><span>21</span></div></div></td><td class=\"table-cell\"><p class=\"mid-wrap\">102087 <span class=\"data-up\">326</span></p></td><td class=\"table-cell\"><p class=\"mid-wrap\">5229 </p></td><td class=\"table-cell\"><p class=\"mid-wrap\">95973 <span class=\"data-down-up\">398</span></p></td><td class=\"table-cell\"><p class=\"mid-wrap\">885 <span class=\"data-up\">1</span></p></td></tr>\n",
      "<tr class=\"table-row\"><td class=\"table-cell\"><input class=\"ip\" id=\"st26\" type=\"checkbox\"/><label for=\"st26\">Tripura</label><div class=\"ddiv\"><div class=\"dist-list\"><span>District</span><span>Cases</span></div><div class=\"dist-list\"><span>Gomati</span><span>74</span></div><div class=\"dist-list\"><span>North Tripura</span><span>14</span></div><div class=\"dist-list\"><span>Dhalai</span><span>196</span></div><div class=\"dist-list\"><span>Khowai</span><span>24</span></div><div class=\"dist-list\"><span>Sepahijala</span><span>174</span></div><div class=\"dist-list\"><span>South Tripura</span><span>53</span></div><div class=\"dist-list\"><span>Unakoti</span><span>49</span></div><div class=\"dist-list\"><span>West Tripura</span><span>45</span></div></div></td><td class=\"table-cell\"><p class=\"mid-wrap\">30852 <span class=\"data-up\">58</span></p></td><td class=\"table-cell\"><p class=\"mid-wrap\">1270 </p></td><td class=\"table-cell\"><p class=\"mid-wrap\">29234 <span class=\"data-down-up\">186</span></p></td><td class=\"table-cell\"><p class=\"mid-wrap\">348 <span class=\"data-up\">2</span></p></td></tr>\n",
      "<tr class=\"table-row\"><td class=\"table-cell\"><input class=\"ip\" id=\"st27\" type=\"checkbox\"/><label for=\"st27\">Ladakh</label><div class=\"ddiv\"><div class=\"dist-list\"><span>District</span><span>Cases</span></div><div class=\"dist-list\"><span>Kargil</span><span>77</span></div><div class=\"dist-list\"><span>LehLadakh</span><span>43</span></div></div></td><td class=\"table-cell\"><p class=\"mid-wrap\">6287 <span class=\"data-up\">17</span></p></td><td class=\"table-cell\"><p class=\"mid-wrap\">583 </p></td><td class=\"table-cell\"><p class=\"mid-wrap\">5629 <span class=\"data-down-up\">90</span></p></td><td class=\"table-cell\"><p class=\"mid-wrap\">75 </p></td></tr>\n",
      "<tr class=\"table-row\"><td class=\"table-cell\"><input class=\"ip\" id=\"st28\" type=\"checkbox\"/><label for=\"st28\">Jammu And Kashmir</label><div class=\"ddiv\"><div class=\"dist-list\"><span>District</span><span>Cases</span></div><div class=\"dist-list\"><span>Anantnag</span><span>395</span></div><div class=\"dist-list\"><span>Bandipora</span><span>175</span></div><div class=\"dist-list\"><span>Shopian</span><span>255</span></div><div class=\"dist-list\"><span>Srinagar</span><span>300</span></div><div class=\"dist-list\"><span>Baramulla</span><span>271</span></div><div class=\"dist-list\"><span>Budgam</span><span>110</span></div><div class=\"dist-list\"><span>Ganderbal</span><span>37</span></div><div class=\"dist-list\"><span>Jammu</span><span>138</span></div><div class=\"dist-list\"><span>Kathua</span><span>53</span></div><div class=\"dist-list\"><span>Kulgam</span><span>295</span></div><div class=\"dist-list\"><span>Kupwara</span><span>231</span></div><div class=\"dist-list\"><span>Rajouri</span><span>39</span></div><div class=\"dist-list\"><span>Ramban</span><span>151</span></div><div class=\"dist-list\"><span>Reasi</span><span>26</span></div><div class=\"dist-list\"><span>Samba</span><span>25</span></div><div class=\"dist-list\"><span>Udhampur</span><span>155</span></div><div class=\"dist-list\"><span>Mirpur</span><span>0</span></div><div class=\"dist-list\"><span>Muzaffarabad</span><span>0</span></div><div class=\"dist-list\"><span>Doda</span><span>27</span></div><div class=\"dist-list\"><span>Kishtwar</span><span>10</span></div><div class=\"dist-list\"><span>Poonch</span><span>35</span></div><div class=\"dist-list\"><span>Pulwama</span><span>108</span></div></div></td><td class=\"table-cell\"><p class=\"mid-wrap\">95325 <span class=\"data-up\">540</span></p></td><td class=\"table-cell\"><p class=\"mid-wrap\">6326 </p></td><td class=\"table-cell\"><p class=\"mid-wrap\">87517 <span class=\"data-down-up\">629</span></p></td><td class=\"table-cell\"><p class=\"mid-wrap\">1482 <span class=\"data-up\">4</span></p></td></tr>\n",
      "<tr class=\"table-row\"><td class=\"table-cell\"><input class=\"ip\" id=\"st29\" type=\"checkbox\"/><label for=\"st29\">Himachal Pradesh</label><div class=\"ddiv\"><div class=\"dist-list\"><span>District</span><span>Cases</span></div><div class=\"dist-list\"><span>Chamba</span><span>29</span></div><div class=\"dist-list\"><span>Hamirpur</span><span>117</span></div><div class=\"dist-list\"><span>Kangra</span><span>105</span></div><div class=\"dist-list\"><span>Sirmaur</span><span>11</span></div><div class=\"dist-list\"><span>Solan</span><span>32</span></div><div class=\"dist-list\"><span>Una</span><span>41</span></div><div class=\"dist-list\"><span>Bilaspur</span><span>21</span></div><div class=\"dist-list\"><span>Kinnaur</span><span>2</span></div><div class=\"dist-list\"><span>Kullu</span><span>4</span></div><div class=\"dist-list\"><span>Lahaul And Spiti</span><span>0</span></div><div class=\"dist-list\"><span>Mandi</span><span>21</span></div><div class=\"dist-list\"><span>Shimla</span><span>10</span></div></div></td><td class=\"table-cell\"><p class=\"mid-wrap\">22264 <span class=\"data-up\">205</span></p></td><td class=\"table-cell\"><p class=\"mid-wrap\">2973 <span class=\"data-up\">93</span></p></td><td class=\"table-cell\"><p class=\"mid-wrap\">18965 <span class=\"data-down-up\">103</span></p></td><td class=\"table-cell\"><p class=\"mid-wrap\">326 <span class=\"data-up\">9</span></p></td></tr>\n",
      "<tr class=\"table-row\"><td class=\"table-cell\"><input class=\"ip\" id=\"st30\" type=\"checkbox\"/><label for=\"st30\">Punjab</label><div class=\"ddiv\"><div class=\"dist-list\"><span>District</span><span>Cases</span></div><div class=\"dist-list\"><span>Jalandhar</span><span>297</span></div><div class=\"dist-list\"><span>Ludhiana</span><span>293</span></div><div class=\"dist-list\"><span>Patiala</span><span>132</span></div><div class=\"dist-list\"><span>Amritsar</span><span>485</span></div><div class=\"dist-list\"><span>Barnala</span><span>25</span></div><div class=\"dist-list\"><span>Faridkot</span><span>74</span></div><div class=\"dist-list\"><span>Firozepur</span><span>50</span></div><div class=\"dist-list\"><span>Gurdaspur</span><span>154</span></div><div class=\"dist-list\"><span>Hoshiarpur</span><span>140</span></div><div class=\"dist-list\"><span>Kapurthala</span><span>44</span></div><div class=\"dist-list\"><span>Mansa</span><span>31</span></div><div class=\"dist-list\"><span>Moga</span><span>65</span></div><div class=\"dist-list\"><span>Pathankot</span><span>86</span></div><div class=\"dist-list\"><span>S.A.S Nagar</span><span>137</span></div><div class=\"dist-list\"><span>Sangrur</span><span>107</span></div><div class=\"dist-list\"><span>Shahid Bhagat Singh Nagar (Nawanshahr)</span><span>99</span></div><div class=\"dist-list\"><span>Sri Muktsar Sahib</span><span>71</span></div><div class=\"dist-list\"><span>Tarn Taran</span><span>163</span></div><div class=\"dist-list\"><span>Bathinda</span><span>60</span></div><div class=\"dist-list\"><span>Fatehgarh Sahib</span><span>57</span></div><div class=\"dist-list\"><span>Fazilka</span><span>53</span></div><div class=\"dist-list\"><span>Rupnagar (Ropar)</span><span>74</span></div></div></td><td class=\"table-cell\"><p class=\"mid-wrap\">133975 <span class=\"data-up\">317</span></p></td><td class=\"table-cell\"><p class=\"mid-wrap\">4195 </p></td><td class=\"table-cell\"><p class=\"mid-wrap\">125566 <span class=\"data-down-up\">368</span></p></td><td class=\"table-cell\"><p class=\"mid-wrap\">4214 <span class=\"data-up\">11</span></p></td></tr>\n",
      "<tr class=\"table-row\"><td class=\"table-cell\"><input class=\"ip\" id=\"st31\" type=\"checkbox\"/><label for=\"st31\">Uttarakhand</label><div class=\"ddiv\"><div class=\"dist-list\"><span>District</span><span>Cases</span></div><div class=\"dist-list\"><span>Haridwar</span><span>94</span></div><div class=\"dist-list\"><span>Dehradun</span><span>370</span></div><div class=\"dist-list\"><span>Nainital</span><span>323</span></div><div class=\"dist-list\"><span>Almora</span><span>71</span></div><div class=\"dist-list\"><span>Bageshwar</span><span>31</span></div><div class=\"dist-list\"><span>Chamoli</span><span>36</span></div><div class=\"dist-list\"><span>Champawat</span><span>45</span></div><div class=\"dist-list\"><span>PauriGarhwal</span><span>36</span></div><div class=\"dist-list\"><span>Pithoragarh</span><span>43</span></div><div class=\"dist-list\"><span>Rudraprayag</span><span>30</span></div><div class=\"dist-list\"><span>Tehri Garhwal</span><span>110</span></div><div class=\"dist-list\"><span>Udam Singh Nagar</span><span>83</span></div><div class=\"dist-list\"><span>Uttar Kashi</span><span>24</span></div></div></td><td class=\"table-cell\"><p class=\"mid-wrap\">62550 <span class=\"data-up\">222</span></p></td><td class=\"table-cell\"><p class=\"mid-wrap\">3914 <span class=\"data-up\">31</span></p></td><td class=\"table-cell\"><p class=\"mid-wrap\">57609 <span class=\"data-down-up\">187</span></p></td><td class=\"table-cell\"><p class=\"mid-wrap\">1027 <span class=\"data-up\">4</span></p></td></tr>\n",
      "<tr class=\"table-row\"><td class=\"table-cell\"><input class=\"ip\" id=\"st32\" type=\"checkbox\"/><label for=\"st32\">Manipur</label><div class=\"ddiv\"><div class=\"dist-list\"><span>District</span><span>Cases</span></div><div class=\"dist-list\"><span>Bishnupur</span><span>7</span></div><div class=\"dist-list\"><span>Chandel</span><span>5</span></div><div class=\"dist-list\"><span>Churachandpur</span><span>32</span></div><div class=\"dist-list\"><span>Imphal East</span><span>10</span></div><div class=\"dist-list\"><span>Imphal West</span><span>21</span></div><div class=\"dist-list\"><span>Jiribam</span><span>3</span></div><div class=\"dist-list\"><span>Kakching</span><span>2</span></div><div class=\"dist-list\"><span>Kamjong</span><span>5</span></div><div class=\"dist-list\"><span>Kangpokpi</span><span>26</span></div><div class=\"dist-list\"><span>Noney</span><span>1</span></div><div class=\"dist-list\"><span>Pherzawl</span><span>3</span></div><div class=\"dist-list\"><span>Senapati</span><span>6</span></div><div class=\"dist-list\"><span>Tamenglong</span><span>2</span></div><div class=\"dist-list\"><span>Tengnoupal</span><span>9</span></div><div class=\"dist-list\"><span>Thoubal</span><span>18</span></div><div class=\"dist-list\"><span>Ukhrul</span><span>4</span></div></div></td><td class=\"table-cell\"><p class=\"mid-wrap\">18750 <span class=\"data-up\">248</span></p></td><td class=\"table-cell\"><p class=\"mid-wrap\">3514 <span class=\"data-up\">42</span></p></td><td class=\"table-cell\"><p class=\"mid-wrap\">15065 <span class=\"data-down-up\">203</span></p></td><td class=\"table-cell\"><p class=\"mid-wrap\">171 <span class=\"data-up\">3</span></p></td></tr>\n",
      "<tr class=\"table-row\"><td class=\"table-cell\"><input class=\"ip\" id=\"st33\" type=\"checkbox\"/><label for=\"st33\">Chandigarh</label><div class=\"ddiv\"><div class=\"dist-list\"><span>District</span><span>Cases</span></div><div class=\"dist-list\"><span>Chandigarh</span><span>313</span></div></div></td><td class=\"table-cell\"><p class=\"mid-wrap\">14476 <span class=\"data-up\">58</span></p></td><td class=\"table-cell\"><p class=\"mid-wrap\">618 </p></td><td class=\"table-cell\"><p class=\"mid-wrap\">13632 <span class=\"data-down-up\">81</span></p></td><td class=\"table-cell\"><p class=\"mid-wrap\">226 </p></td></tr>\n",
      "<tr class=\"table-row\"><td class=\"table-cell\"><input class=\"ip\" id=\"st34\" type=\"checkbox\"/><label for=\"st34\">Meghalaya</label><div class=\"ddiv\"><div class=\"dist-list\"><span>District</span><span>Cases</span></div><div class=\"dist-list\"><span>East Khasi Hills</span><span>22</span></div><div class=\"dist-list\"><span>East Garo Hills</span><span>0</span></div><div class=\"dist-list\"><span>East Jaintia Hills</span><span>0</span></div><div class=\"dist-list\"><span>North Garo Hills</span><span>1</span></div><div class=\"dist-list\"><span>Ribhoi</span><span>0</span></div><div class=\"dist-list\"><span>South Garo Hills</span><span>0</span></div><div class=\"dist-list\"><span>South West Garo Hills</span><span>4</span></div><div class=\"dist-list\"><span>South West Khasi Hills</span><span>0</span></div><div class=\"dist-list\"><span>West Garo Hills</span><span>5</span></div><div class=\"dist-list\"><span>West Jaintia Hills</span><span>1</span></div><div class=\"dist-list\"><span>West Khasi Hills</span><span>1</span></div></div></td><td class=\"table-cell\"><p class=\"mid-wrap\">9607 <span class=\"data-up\">155</span></p></td><td class=\"table-cell\"><p class=\"mid-wrap\">1055 <span class=\"data-up\">36</span></p></td><td class=\"table-cell\"><p class=\"mid-wrap\">8462 <span class=\"data-down-up\">117</span></p></td><td class=\"table-cell\"><p class=\"mid-wrap\">90 <span class=\"data-up\">2</span></p></td></tr>\n",
      "<tr class=\"table-row\"><td class=\"table-cell\"><input class=\"ip\" id=\"st35\" type=\"checkbox\"/><label for=\"st35\">Mizoram</label><div class=\"ddiv\"><div class=\"dist-list\"><span>District</span><span>Cases</span></div><div class=\"dist-list\"><span>Aizawl</span><span>10</span></div><div class=\"dist-list\"><span>Champhai</span><span>0</span></div><div class=\"dist-list\"><span>Hnahthial</span><span>0</span></div><div class=\"dist-list\"><span>Khawzawl</span><span>0</span></div><div class=\"dist-list\"><span>Kolasib</span><span>11</span></div><div class=\"dist-list\"><span>Lawngtlai</span><span>2</span></div><div class=\"dist-list\"><span>Lunglei</span><span>2</span></div><div class=\"dist-list\"><span>Mamit</span><span>8</span></div><div class=\"dist-list\"><span>Saiha</span><span>0</span></div><div class=\"dist-list\"><span>Saitual</span><span>1</span></div><div class=\"dist-list\"><span>Serchhip</span><span>0</span></div></div></td><td class=\"table-cell\"><p class=\"mid-wrap\">2757 <span class=\"data-up\">4</span></p></td><td class=\"table-cell\"><p class=\"mid-wrap\">433 </p></td><td class=\"table-cell\"><p class=\"mid-wrap\">2323 <span class=\"data-down-up\">32</span></p></td><td class=\"table-cell\"><p class=\"mid-wrap\">1 </p></td></tr>\n",
      "<tr class=\"table-row\"><td class=\"table-cell\"><input class=\"ip\" id=\"st36\" type=\"checkbox\"/><label for=\"st36\">Lakshadweep</label><div class=\"ddiv\"><div class=\"dist-list\"><span>District</span><span>Cases</span></div><div class=\"dist-list\"><span>Lakshadweep District</span><span>0</span></div></div></td><td class=\"table-cell\"><p class=\"mid-wrap\">0 </p></td><td class=\"table-cell\"><p class=\"mid-wrap\">0 </p></td><td class=\"table-cell\"><p class=\"mid-wrap\">0 </p></td><td class=\"table-cell\"><p class=\"mid-wrap\">0 </p></td></tr>\n"
     ]
    }
   ],
   "source": [
    "for i in rows:\n",
    "    print(i)"
   ]
  },
  {
   "cell_type": "code",
   "execution_count": 20,
   "metadata": {},
   "outputs": [],
   "source": [
    "all_rows = []\n",
    "for i in rows:\n",
    "    td = i.find_all('td')\n",
    "    row = [i.text for i in td]\n",
    "    all_rows.append(row)  "
   ]
  },
  {
   "cell_type": "code",
   "execution_count": 21,
   "metadata": {},
   "outputs": [
    {
     "data": {
      "text/plain": [
       "[[],\n",
       " ['MaharashtraDistrictCasesAkola757Aurangabad1974Dhule228Jalgaon1039Mumbai45478Mumbai Suburban5363Nagpur692Nashik1575Palghar1421Pune9920Satara629Solapur1291Thane13660Yavatmal150Ahmednagar190Amravati291Beed54Bhandara41Buldhana88Chandrapur32Hingoli208Jalna201Kolhapur646Latur139Nanded176Nandurbar42Parbhani78Raigad1462Ratnagiri350Sangli145Gadchiroli42gondia69Osmanabad125Sindhudurg114Wardha11Washim13',\n",
       "  '1683775 5369',\n",
       "  '125672 1530',\n",
       "  '1514079 3726',\n",
       "  '44024 113'],\n",
       " ['Andhra PradeshDistrictCasesChittoor319Guntur511Krishna557Kurnool795Sri Potti Sriramulu Nell*296Anantapur428East Godavari356Prakasam104Srikakulam183Visakhapatnam103West Godavari199Y.S.R.205Vizianagaram23',\n",
       "  '825966 2618',\n",
       "  '23668 ',\n",
       "  '795592 3509',\n",
       "  '6706 16'],\n",
       " ['KarnatakaDistrictCasesBengaluru Rural40Bengaluru Urban529Mysuru107Bagalkote103Ballari60Belagavi337Bidar219Chikkaballapura149Dakshina Kannada179Dharwad61Gadag45Kalaburagi669Mandya346Tumakuru36Uttara Kannada95Vijayapura201Chamarajanagara0Chikkamagaluru19Chitradurga14Davangere204Hassan205Haveri24Kodagu4Kolar29Koppal5Raichur369Ramanagara3Shivamogga67Udupi1176Yadgir538',\n",
       "  '827064 3652',\n",
       "  '50611 ',\n",
       "  '765261 8053',\n",
       "  '11192 24'],\n",
       " ['GoaDistrictCasesNorth Goa57South Goa69',\n",
       "  '43768 142',\n",
       "  '2244 ',\n",
       "  '40915 237',\n",
       "  '609 5'],\n",
       " ['Tamil NaduDistrictCasesChengalpattu1314Chennai23324Kanchipuram503Madurai322Namakkal83Ranipet133Thanjavur130Thiruvallur774Thiruvarur67Tiruppur116Vellore71Virudhunagar185Ariyalur444Coimbatore188Cuddalore477Dharmapuri15Dindigul175Erode75Kallakurichi324Kanniyakumari110Karur88Nagapattinam99Perambalur133Pudukkottai53Ramanathapuram119Salem258Sivaganga46Tenkasi103The Nilgiris17Theni129Tiruchirappalli119Tirunelveli433Tirupathur45Tiruvannamalai496Tuticorin333Villupuram509Krishnagiri43',\n",
       "  '727026 2504',\n",
       "  '20994 ',\n",
       "  '694880 3644',\n",
       "  '11152 30'],\n",
       " ['KeralaDistrictCasesKannur357Kottayam73Alappuzha76Idukki40Kasaragod333Kollam118Kozhikode90Malappuram119Palakkad224Pathanamthitta98Thiruvananthapuram104Thrissur106Ernakulam60Wayanad36',\n",
       "  '440130 7025',\n",
       "  '89783 ',\n",
       "  '348835 8511',\n",
       "  '1512 28'],\n",
       " ['ChhattisgarhDistrictCasesRaipur46Korba100Balod41Baloda Bazar85Balrampur17Bastar2Bemetara21Bijapur2Bilaspur100Dantewada0Dhamtari6Durg31Gariyaband10Janjgir-Champa56Jashpur77Kabirdham52Kanker19Kondagaon0Korea39Mahasamund54Mungeli87Narayanpur0Raigarh47Rajnandgaon52Sukma0Surajpur9Surguja14',\n",
       "  '188813 1543',\n",
       "  '22126 36',\n",
       "  '164537 1458',\n",
       "  '2150 49'],\n",
       " ['TelanganaDistrictCasesHyderabad2475MedchalMalkajgiri75Ranga Reddy183Suryapet87Vikarabad40Warangal Urban32Adilabad22Jagitial77Jangoan8Jayashankar Bhupalapally9Jogulamba Gadwal40Kamareddy11Karimnagar17Khammam26Kumuram Bheem Asifabad8Mahabubnagar30Mancherial43Medak11Nalgonda33Narayanpet3Nirmal21Nizamabad76RajannaSircilla16Sangareddy26Bhadradri Kothagudem5Mahabubabad10Mulugu3Nagarkurnool8Peddapalli5Siddipet7Wanaparthy1Warangal Rural4YadadriBhuvanagiri40',\n",
       "  '240970 922',\n",
       "  '17630 ',\n",
       "  '221992 1526',\n",
       "  '1348 7'],\n",
       " ['OdishaDistrictCasesBaleshwar190Bhadrak137Jajapur322Dhenkanal36Kalahandi33Kendrapara164Khordha238Koraput16Sundargarh102Anugul26Balangir129Bargarh16Boudh34Cuttack155Deogarh33Gajapati61Ganjam581Jagatsinghapur91Jharsuguda8Kandhamal28Kendujhar34Malkangiri20Mayurbhanj73Nabarangpur2Nayagarh86Nuapada69Puri103Rayagada2Sambalpur16Sonepur29',\n",
       "  '291825 1709',\n",
       "  '12930 ',\n",
       "  '277564 1815',\n",
       "  '1331 11'],\n",
       " ['Madhya PradeshDistrictCasesBarwani60Bhopal1880Dewas140Dhar132East Nimar266Gwalior211Indore3839Jabalpur276Ujjain799Agar Malwa15Alirajpur3Betul35Burhanpur351Chhindwara16Dindori29Harda4Hoshangabad37Khargone196Mandsaur112Morena109Raisen71Ratlam51Sagar228Shajapur39Shandol14Sheopur26Tikamgarh18Vidisha37Anuppur22Ashoknagar13Balaghat9Bhind87Chhatarpur35Damoh26Datia12Guna8Jhabua14Katni3Mandla15Narsinghpur17Neemuch319Niwari0Panna20Rajgarh31Rewa39Satna24Sehore12Seoni2Shivpuri15Sidhi17Singrauli13Umaria10',\n",
       "  '172082 723',\n",
       "  '8538 ',\n",
       "  '160586 1107',\n",
       "  '2958 7'],\n",
       " ['GujaratDistrictCasesAhmadabad17125Anand107Arvalli134Banas Kantha147Bhavnagar146Gandhinagar410PanchMahals107Surat2311Vadodara1555Bharuch56Botad55Chhotaudepur37Dang5Dohad43GirSomnath45Jamnagar63Kachchh99Kheda98Mahesana159Mahisagar125Narmada25Naysari35Patan105Rajkot135SabarKantha101Surendranagar55Tapi6Valsad47Amreli16DevbhumiDwarka22Junagadh31Morbi4Porbandar11',\n",
       "  '173642 860',\n",
       "  '12811 ',\n",
       "  '157110 1128',\n",
       "  '3721 5'],\n",
       " ['RajasthanDistrictCasesAjmer379Banswara91Bharatpur563Jaipur2177Jhalawar329Jodhpur1748Kota503Nagaur500Alwar90Barmer34Bhilwara250Bikaner112Chittorgarh188Churu81Dausa61Dholpur60Dungarpur374Hanumangarh31Jaisalmer53Jhunjhunu64Karauli17Pali352Rajsamand140SawaiMadhopur26Sikar231Tonk171Udaipur724Baran59Bundi5Ganganagar8Jalore164Pratapgarh14Sirohi130',\n",
       "  '198747 1754',\n",
       "  '15255 153',\n",
       "  '181575 1591',\n",
       "  '1917 10'],\n",
       " ['HaryanaDistrictCasesFaridabad867Sonipat404Ambala93Bhiwani60CharkiDadri43Fatehabad38Gurugram2950Hisar98Jhajjar114Jind38Kaithal48Karnal104Kurukshetra55Nuh68Palwal120Panchkula39Panipat78Rohtak145Sirsa50Yamunanagar19Mahendragarh47Rewari56',\n",
       "  '168880 1670',\n",
       "  '12634 443',\n",
       "  '154451 1221',\n",
       "  '1795 6'],\n",
       " ['Uttar PradeshDistrictCasesAgra933Aligarh215Amroha80Bareilly17Bijnor157Bulandshahr166Firozabad190Gautam Buddha Nagar1119Kanpur Nagar286Lucknow386Mathura129Meerut504Moradabad252Muzaffarnagar117Rae Bareli78Rampur203Saharanpur298Sant Kabeer Nagar132Varanasi243Auraiya37Ayodhya120Azamgarh138Baghpat68Bahraich73Balrampur49Banda27Basti214Bhadohi60Budaun23Etah52Etawah46Ghaziabad794Ghazipur159Gonda59Gorakhpur166Hapur225Hardoi49Jalaun41Jaunpur194Jhansi41Kannauj69Kasganj16Kaushambi6Mainpuri46Mau48Mirzapur22Pilibhit15Pratapgarh15Prayagraj30Sambhal116Shamli40Shravasti23Sitapur32Sultanpur97Unnao42Ambedkar Nagar92Amethi206Ballia60Barabanki168Chandauli38Chitrakoot4Deoria143Farrukhabad36Fatehpur3Hamirpur3Hathras43Kanpur Dehat4Kheri72Kushi Nagar67Lalitpur3Maharajganj85Mahoba3Shahjahanpur25Siddharth Nagar159Sonbhadra10',\n",
       "  '483832 1969',\n",
       "  '23323 ',\n",
       "  '453458 2388',\n",
       "  '7051 26'],\n",
       " ['DelhiDistrictCasesCentral4817East2472New Delhi3405North3059North East1914North West5463Shahdara1580South2329South East2446South West2391West4768',\n",
       "  '392370 5664',\n",
       "  '34173 1454',\n",
       "  '351635 4159',\n",
       "  '6562 51'],\n",
       " ['AssamDistrictCasesDhubri30Goalpara19Marigaon50Baksa14Barpeta28Biswanath16Bongaigaon12Cachar80Charaideo29Chirang6Darrang20Dhemaji47Dibrugarh61Dima Hasao86Golaghat203Hailakandi57Hojai89Jorhat24Kamrup42Kamrup Metro276KarbiAnglong13Karimganj85Kokrajhar37Lakhimpur57Majuli2Nagaon143Nalbari23Sivasagar20Sonitpur27South SalmaraMancachar4Tinsukia84Udalguri28West KarbiAnglong5',\n",
       "  '206517 166',\n",
       "  '8802 ',\n",
       "  '196784 730',\n",
       "  '931 1'],\n",
       " ['SikkimDistrictCasesEast District3North District0South District3West District0',\n",
       "  '3958 18',\n",
       "  '234 ',\n",
       "  '3651 34',\n",
       "  '73 1'],\n",
       " ['BiharDistrictCasesBuxar134Gaya115Munger188Patna279Rohtas256Arwal52Aurangabad75Banka134Begusarai243Bhagalpur266Bhojpur103Darbhanga143Gopalganj123Jehanabad178Kaimur (bhabua)105Lakhisarai72Madhepura82Madhubani199Nalanda123Nawada122PurbiChamparan138Purnia135Saran101Siwan139Vaishali87Araria68Jamui47Katihar175Khagaria253Kishanganj75Muzaffarpur96Pashchim Champaran57Saharsa88Samastipur139Sheikhpura118Sheohar20Sitamarhi73Supaul87',\n",
       "  '216707 621',\n",
       "  '6966 ',\n",
       "  '208644 1164',\n",
       "  '1097 7'],\n",
       " ['West BengalDistrictCases24 Paraganas North103124 Paraganas South281Darjeeling97Howrah1435Jalpaiguri88Kalimpong18Kolkata2777Maldah235Medinipur East153Medinipur West159Hooghly604Murshidabad125Nadia139Paschim Bardhaman70Purba Bardhaman130Alipurduar39Bankura116Birbhum206Coochbehar210Dinajpur Dakshin50Dinajpur Uttar216Jhargram9Purulia66',\n",
       "  '377651 3987',\n",
       "  '36761 ',\n",
       "  '333990 4053',\n",
       "  '6900 59'],\n",
       " ['Andaman And Nicobar IslandsDistrictCasesSouth Andamans33Nicobars1North And Middle Andaman1',\n",
       "  '4340 8',\n",
       "  '168 ',\n",
       "  '4112 12',\n",
       "  '60 1'],\n",
       " ['PuducherryDistrictCasesPondicherry111Karaikal2Mahe4Yanam0',\n",
       "  '35109 96',\n",
       "  '3169 ',\n",
       "  '31345 621',\n",
       "  '595 3'],\n",
       " ['Arunachal PradeshDistrictCasesAnjaw0Changlang31Dibang Valley0East Kameng0East Siang1Kamle0KraDaadi0KurungKumey0Leparada0Lohit3Longding0Lower Dibang Valley0Lower Siang0Lower Subansiri0Namsai2PakkeKessang1Papum Pare8Shi Yomi0Siang0Tawang1Tirap0Upper Siang1Upper Subansiri0West Kameng0West Siang1',\n",
       "  '14881 29',\n",
       "  '1771 ',\n",
       "  '13073 114',\n",
       "  '37 '],\n",
       " ['NagalandDistrictCasesDimapur20Kiphire3Kohima7Longleng0Mokokchung0Mon8Peren2Phek1Tuensang3Wokha0Zunheboto0',\n",
       "  '9075 28',\n",
       "  '1501 ',\n",
       "  '7535 81',\n",
       "  '39 '],\n",
       " ['Dadra And Nagar HaveliDistrictCasesDadra And Nagar Haveli20',\n",
       "  '3255 4',\n",
       "  '34 ',\n",
       "  '3219 9',\n",
       "  '2 '],\n",
       " ['JharkhandDistrictCasesRanchi148Bokaro16Deoghar5Dhanbad32Garhwa80Giridih19Hazaribagh110Jamtara2Koderma58Simdega48Chatra1Dumka5East Singhbum170Godda2Gumla28Khunti10Latehar14Lohardaga8Pakur4Palamu27Ramgarh75Sahebganj0SaraikelaKharsawan20West Singhbhum21',\n",
       "  '102087 326',\n",
       "  '5229 ',\n",
       "  '95973 398',\n",
       "  '885 1'],\n",
       " ['TripuraDistrictCasesGomati74North Tripura14Dhalai196Khowai24Sepahijala174South Tripura53Unakoti49West Tripura45',\n",
       "  '30852 58',\n",
       "  '1270 ',\n",
       "  '29234 186',\n",
       "  '348 2'],\n",
       " ['LadakhDistrictCasesKargil77LehLadakh43',\n",
       "  '6287 17',\n",
       "  '583 ',\n",
       "  '5629 90',\n",
       "  '75 '],\n",
       " ['Jammu And KashmirDistrictCasesAnantnag395Bandipora175Shopian255Srinagar300Baramulla271Budgam110Ganderbal37Jammu138Kathua53Kulgam295Kupwara231Rajouri39Ramban151Reasi26Samba25Udhampur155Mirpur0Muzaffarabad0Doda27Kishtwar10Poonch35Pulwama108',\n",
       "  '95325 540',\n",
       "  '6326 ',\n",
       "  '87517 629',\n",
       "  '1482 4'],\n",
       " ['Himachal PradeshDistrictCasesChamba29Hamirpur117Kangra105Sirmaur11Solan32Una41Bilaspur21Kinnaur2Kullu4Lahaul And Spiti0Mandi21Shimla10',\n",
       "  '22264 205',\n",
       "  '2973 93',\n",
       "  '18965 103',\n",
       "  '326 9'],\n",
       " ['PunjabDistrictCasesJalandhar297Ludhiana293Patiala132Amritsar485Barnala25Faridkot74Firozepur50Gurdaspur154Hoshiarpur140Kapurthala44Mansa31Moga65Pathankot86S.A.S Nagar137Sangrur107Shahid Bhagat Singh Nagar (Nawanshahr)99Sri Muktsar Sahib71Tarn Taran163Bathinda60Fatehgarh Sahib57Fazilka53Rupnagar (Ropar)74',\n",
       "  '133975 317',\n",
       "  '4195 ',\n",
       "  '125566 368',\n",
       "  '4214 11'],\n",
       " ['UttarakhandDistrictCasesHaridwar94Dehradun370Nainital323Almora71Bageshwar31Chamoli36Champawat45PauriGarhwal36Pithoragarh43Rudraprayag30Tehri Garhwal110Udam Singh Nagar83Uttar Kashi24',\n",
       "  '62550 222',\n",
       "  '3914 31',\n",
       "  '57609 187',\n",
       "  '1027 4'],\n",
       " ['ManipurDistrictCasesBishnupur7Chandel5Churachandpur32Imphal East10Imphal West21Jiribam3Kakching2Kamjong5Kangpokpi26Noney1Pherzawl3Senapati6Tamenglong2Tengnoupal9Thoubal18Ukhrul4',\n",
       "  '18750 248',\n",
       "  '3514 42',\n",
       "  '15065 203',\n",
       "  '171 3'],\n",
       " ['ChandigarhDistrictCasesChandigarh313',\n",
       "  '14476 58',\n",
       "  '618 ',\n",
       "  '13632 81',\n",
       "  '226 '],\n",
       " ['MeghalayaDistrictCasesEast Khasi Hills22East Garo Hills0East Jaintia Hills0North Garo Hills1Ribhoi0South Garo Hills0South West Garo Hills4South West Khasi Hills0West Garo Hills5West Jaintia Hills1West Khasi Hills1',\n",
       "  '9607 155',\n",
       "  '1055 36',\n",
       "  '8462 117',\n",
       "  '90 2'],\n",
       " ['MizoramDistrictCasesAizawl10Champhai0Hnahthial0Khawzawl0Kolasib11Lawngtlai2Lunglei2Mamit8Saiha0Saitual1Serchhip0',\n",
       "  '2757 4',\n",
       "  '433 ',\n",
       "  '2323 32',\n",
       "  '1 '],\n",
       " ['LakshadweepDistrictCasesLakshadweep District0', '0 ', '0 ', '0 ', '0 ']]"
      ]
     },
     "execution_count": 21,
     "metadata": {},
     "output_type": "execute_result"
    }
   ],
   "source": [
    "all_rows"
   ]
  },
  {
   "cell_type": "code",
   "execution_count": 22,
   "metadata": {},
   "outputs": [
    {
     "data": {
      "text/plain": [
       "[]"
      ]
     },
     "execution_count": 22,
     "metadata": {},
     "output_type": "execute_result"
    }
   ],
   "source": [
    "all_rows.pop(0)"
   ]
  },
  {
   "cell_type": "code",
   "execution_count": 26,
   "metadata": {},
   "outputs": [],
   "source": [
    "for i in all_rows:\n",
    "    i[0] = i[0][:i[0].find(\"DistrictCases\")] "
   ]
  },
  {
   "cell_type": "code",
   "execution_count": 27,
   "metadata": {},
   "outputs": [],
   "source": [
    "for i in all_rows:\n",
    "    i[1] = i[1][:i[1].find(\" \")]\n",
    "    i[2] = i[2][:i[2].find(\" \")]\n",
    "    i[3] = i[3][:i[3].find(\" \")]\n",
    "    i[4] = i[4][:i[4].find(\" \")] "
   ]
  },
  {
   "cell_type": "code",
   "execution_count": 28,
   "metadata": {},
   "outputs": [
    {
     "data": {
      "text/plain": [
       "[['Maharasht', '1683775', '125672', '1514079', '44024'],\n",
       " ['Andhra Prade', '825966', '23668', '795592', '6706'],\n",
       " ['Karnata', '827064', '50611', '765261', '11192'],\n",
       " ['G', '43768', '2244', '40915', '609'],\n",
       " ['Tamil Na', '727026', '20994', '694880', '11152'],\n",
       " ['Kera', '440130', '89783', '348835', '1512'],\n",
       " ['Chhattisga', '188813', '22126', '164537', '2150'],\n",
       " ['Telanga', '240970', '17630', '221992', '1348'],\n",
       " ['Odis', '291825', '12930', '277564', '1331'],\n",
       " ['Madhya Prade', '172082', '8538', '160586', '2958'],\n",
       " ['Gujar', '173642', '12811', '157110', '3721'],\n",
       " ['Rajasth', '198747', '15255', '181575', '1917'],\n",
       " ['Harya', '168880', '12634', '154451', '1795'],\n",
       " ['Uttar Prade', '483832', '23323', '453458', '7051'],\n",
       " ['Del', '392370', '34173', '351635', '6562'],\n",
       " ['Ass', '206517', '8802', '196784', '931'],\n",
       " ['Sikk', '3958', '234', '3651', '73'],\n",
       " ['Bih', '216707', '6966', '208644', '1097'],\n",
       " ['West Beng', '377651', '36761', '333990', '6900'],\n",
       " ['Andaman And Nicobar Islan', '4340', '168', '4112', '60'],\n",
       " ['Puducher', '35109', '3169', '31345', '595'],\n",
       " ['Arunachal Prade', '14881', '1771', '13073', '37'],\n",
       " ['Nagala', '9075', '1501', '7535', '39'],\n",
       " ['Dadra And Nagar Have', '3255', '34', '3219', '2'],\n",
       " ['Jharkha', '102087', '5229', '95973', '885'],\n",
       " ['Tripu', '30852', '1270', '29234', '348'],\n",
       " ['Lada', '6287', '583', '5629', '75'],\n",
       " ['Jammu And Kashm', '95325', '6326', '87517', '1482'],\n",
       " ['Himachal Prade', '22264', '2973', '18965', '326'],\n",
       " ['Punj', '133975', '4195', '125566', '4214'],\n",
       " ['Uttarakha', '62550', '3914', '57609', '1027'],\n",
       " ['Manip', '18750', '3514', '15065', '171'],\n",
       " ['Chandiga', '14476', '618', '13632', '226'],\n",
       " ['Meghala', '9607', '1055', '8462', '90'],\n",
       " ['Mizor', '2757', '433', '2323', '1'],\n",
       " ['Lakshadwe', '0', '0', '0', '0']]"
      ]
     },
     "execution_count": 28,
     "metadata": {},
     "output_type": "execute_result"
    }
   ],
   "source": [
    "all_rows"
   ]
  },
  {
   "cell_type": "code",
   "execution_count": 31,
   "metadata": {},
   "outputs": [],
   "source": [
    "import pandas as pd\n",
    "data = pd.DataFrame(all_rows,columns=headings) "
   ]
  },
  {
   "cell_type": "code",
   "execution_count": 32,
   "metadata": {},
   "outputs": [
    {
     "data": {
      "text/html": [
       "<div>\n",
       "<style scoped>\n",
       "    .dataframe tbody tr th:only-of-type {\n",
       "        vertical-align: middle;\n",
       "    }\n",
       "\n",
       "    .dataframe tbody tr th {\n",
       "        vertical-align: top;\n",
       "    }\n",
       "\n",
       "    .dataframe thead th {\n",
       "        text-align: right;\n",
       "    }\n",
       "</style>\n",
       "<table border=\"1\" class=\"dataframe\">\n",
       "  <thead>\n",
       "    <tr style=\"text-align: right;\">\n",
       "      <th></th>\n",
       "      <th>State</th>\n",
       "      <th>Cases</th>\n",
       "      <th>Active</th>\n",
       "      <th>Recovered</th>\n",
       "      <th>Deaths</th>\n",
       "    </tr>\n",
       "  </thead>\n",
       "  <tbody>\n",
       "    <tr>\n",
       "      <td>0</td>\n",
       "      <td>Maharasht</td>\n",
       "      <td>1683775</td>\n",
       "      <td>125672</td>\n",
       "      <td>1514079</td>\n",
       "      <td>44024</td>\n",
       "    </tr>\n",
       "    <tr>\n",
       "      <td>1</td>\n",
       "      <td>Andhra Prade</td>\n",
       "      <td>825966</td>\n",
       "      <td>23668</td>\n",
       "      <td>795592</td>\n",
       "      <td>6706</td>\n",
       "    </tr>\n",
       "    <tr>\n",
       "      <td>2</td>\n",
       "      <td>Karnata</td>\n",
       "      <td>827064</td>\n",
       "      <td>50611</td>\n",
       "      <td>765261</td>\n",
       "      <td>11192</td>\n",
       "    </tr>\n",
       "    <tr>\n",
       "      <td>3</td>\n",
       "      <td>G</td>\n",
       "      <td>43768</td>\n",
       "      <td>2244</td>\n",
       "      <td>40915</td>\n",
       "      <td>609</td>\n",
       "    </tr>\n",
       "    <tr>\n",
       "      <td>4</td>\n",
       "      <td>Tamil Na</td>\n",
       "      <td>727026</td>\n",
       "      <td>20994</td>\n",
       "      <td>694880</td>\n",
       "      <td>11152</td>\n",
       "    </tr>\n",
       "    <tr>\n",
       "      <td>5</td>\n",
       "      <td>Kera</td>\n",
       "      <td>440130</td>\n",
       "      <td>89783</td>\n",
       "      <td>348835</td>\n",
       "      <td>1512</td>\n",
       "    </tr>\n",
       "    <tr>\n",
       "      <td>6</td>\n",
       "      <td>Chhattisga</td>\n",
       "      <td>188813</td>\n",
       "      <td>22126</td>\n",
       "      <td>164537</td>\n",
       "      <td>2150</td>\n",
       "    </tr>\n",
       "    <tr>\n",
       "      <td>7</td>\n",
       "      <td>Telanga</td>\n",
       "      <td>240970</td>\n",
       "      <td>17630</td>\n",
       "      <td>221992</td>\n",
       "      <td>1348</td>\n",
       "    </tr>\n",
       "    <tr>\n",
       "      <td>8</td>\n",
       "      <td>Odis</td>\n",
       "      <td>291825</td>\n",
       "      <td>12930</td>\n",
       "      <td>277564</td>\n",
       "      <td>1331</td>\n",
       "    </tr>\n",
       "    <tr>\n",
       "      <td>9</td>\n",
       "      <td>Madhya Prade</td>\n",
       "      <td>172082</td>\n",
       "      <td>8538</td>\n",
       "      <td>160586</td>\n",
       "      <td>2958</td>\n",
       "    </tr>\n",
       "    <tr>\n",
       "      <td>10</td>\n",
       "      <td>Gujar</td>\n",
       "      <td>173642</td>\n",
       "      <td>12811</td>\n",
       "      <td>157110</td>\n",
       "      <td>3721</td>\n",
       "    </tr>\n",
       "    <tr>\n",
       "      <td>11</td>\n",
       "      <td>Rajasth</td>\n",
       "      <td>198747</td>\n",
       "      <td>15255</td>\n",
       "      <td>181575</td>\n",
       "      <td>1917</td>\n",
       "    </tr>\n",
       "    <tr>\n",
       "      <td>12</td>\n",
       "      <td>Harya</td>\n",
       "      <td>168880</td>\n",
       "      <td>12634</td>\n",
       "      <td>154451</td>\n",
       "      <td>1795</td>\n",
       "    </tr>\n",
       "    <tr>\n",
       "      <td>13</td>\n",
       "      <td>Uttar Prade</td>\n",
       "      <td>483832</td>\n",
       "      <td>23323</td>\n",
       "      <td>453458</td>\n",
       "      <td>7051</td>\n",
       "    </tr>\n",
       "    <tr>\n",
       "      <td>14</td>\n",
       "      <td>Del</td>\n",
       "      <td>392370</td>\n",
       "      <td>34173</td>\n",
       "      <td>351635</td>\n",
       "      <td>6562</td>\n",
       "    </tr>\n",
       "    <tr>\n",
       "      <td>15</td>\n",
       "      <td>Ass</td>\n",
       "      <td>206517</td>\n",
       "      <td>8802</td>\n",
       "      <td>196784</td>\n",
       "      <td>931</td>\n",
       "    </tr>\n",
       "    <tr>\n",
       "      <td>16</td>\n",
       "      <td>Sikk</td>\n",
       "      <td>3958</td>\n",
       "      <td>234</td>\n",
       "      <td>3651</td>\n",
       "      <td>73</td>\n",
       "    </tr>\n",
       "    <tr>\n",
       "      <td>17</td>\n",
       "      <td>Bih</td>\n",
       "      <td>216707</td>\n",
       "      <td>6966</td>\n",
       "      <td>208644</td>\n",
       "      <td>1097</td>\n",
       "    </tr>\n",
       "    <tr>\n",
       "      <td>18</td>\n",
       "      <td>West Beng</td>\n",
       "      <td>377651</td>\n",
       "      <td>36761</td>\n",
       "      <td>333990</td>\n",
       "      <td>6900</td>\n",
       "    </tr>\n",
       "    <tr>\n",
       "      <td>19</td>\n",
       "      <td>Andaman And Nicobar Islan</td>\n",
       "      <td>4340</td>\n",
       "      <td>168</td>\n",
       "      <td>4112</td>\n",
       "      <td>60</td>\n",
       "    </tr>\n",
       "    <tr>\n",
       "      <td>20</td>\n",
       "      <td>Puducher</td>\n",
       "      <td>35109</td>\n",
       "      <td>3169</td>\n",
       "      <td>31345</td>\n",
       "      <td>595</td>\n",
       "    </tr>\n",
       "    <tr>\n",
       "      <td>21</td>\n",
       "      <td>Arunachal Prade</td>\n",
       "      <td>14881</td>\n",
       "      <td>1771</td>\n",
       "      <td>13073</td>\n",
       "      <td>37</td>\n",
       "    </tr>\n",
       "    <tr>\n",
       "      <td>22</td>\n",
       "      <td>Nagala</td>\n",
       "      <td>9075</td>\n",
       "      <td>1501</td>\n",
       "      <td>7535</td>\n",
       "      <td>39</td>\n",
       "    </tr>\n",
       "    <tr>\n",
       "      <td>23</td>\n",
       "      <td>Dadra And Nagar Have</td>\n",
       "      <td>3255</td>\n",
       "      <td>34</td>\n",
       "      <td>3219</td>\n",
       "      <td>2</td>\n",
       "    </tr>\n",
       "    <tr>\n",
       "      <td>24</td>\n",
       "      <td>Jharkha</td>\n",
       "      <td>102087</td>\n",
       "      <td>5229</td>\n",
       "      <td>95973</td>\n",
       "      <td>885</td>\n",
       "    </tr>\n",
       "    <tr>\n",
       "      <td>25</td>\n",
       "      <td>Tripu</td>\n",
       "      <td>30852</td>\n",
       "      <td>1270</td>\n",
       "      <td>29234</td>\n",
       "      <td>348</td>\n",
       "    </tr>\n",
       "    <tr>\n",
       "      <td>26</td>\n",
       "      <td>Lada</td>\n",
       "      <td>6287</td>\n",
       "      <td>583</td>\n",
       "      <td>5629</td>\n",
       "      <td>75</td>\n",
       "    </tr>\n",
       "    <tr>\n",
       "      <td>27</td>\n",
       "      <td>Jammu And Kashm</td>\n",
       "      <td>95325</td>\n",
       "      <td>6326</td>\n",
       "      <td>87517</td>\n",
       "      <td>1482</td>\n",
       "    </tr>\n",
       "    <tr>\n",
       "      <td>28</td>\n",
       "      <td>Himachal Prade</td>\n",
       "      <td>22264</td>\n",
       "      <td>2973</td>\n",
       "      <td>18965</td>\n",
       "      <td>326</td>\n",
       "    </tr>\n",
       "    <tr>\n",
       "      <td>29</td>\n",
       "      <td>Punj</td>\n",
       "      <td>133975</td>\n",
       "      <td>4195</td>\n",
       "      <td>125566</td>\n",
       "      <td>4214</td>\n",
       "    </tr>\n",
       "    <tr>\n",
       "      <td>30</td>\n",
       "      <td>Uttarakha</td>\n",
       "      <td>62550</td>\n",
       "      <td>3914</td>\n",
       "      <td>57609</td>\n",
       "      <td>1027</td>\n",
       "    </tr>\n",
       "    <tr>\n",
       "      <td>31</td>\n",
       "      <td>Manip</td>\n",
       "      <td>18750</td>\n",
       "      <td>3514</td>\n",
       "      <td>15065</td>\n",
       "      <td>171</td>\n",
       "    </tr>\n",
       "    <tr>\n",
       "      <td>32</td>\n",
       "      <td>Chandiga</td>\n",
       "      <td>14476</td>\n",
       "      <td>618</td>\n",
       "      <td>13632</td>\n",
       "      <td>226</td>\n",
       "    </tr>\n",
       "    <tr>\n",
       "      <td>33</td>\n",
       "      <td>Meghala</td>\n",
       "      <td>9607</td>\n",
       "      <td>1055</td>\n",
       "      <td>8462</td>\n",
       "      <td>90</td>\n",
       "    </tr>\n",
       "    <tr>\n",
       "      <td>34</td>\n",
       "      <td>Mizor</td>\n",
       "      <td>2757</td>\n",
       "      <td>433</td>\n",
       "      <td>2323</td>\n",
       "      <td>1</td>\n",
       "    </tr>\n",
       "    <tr>\n",
       "      <td>35</td>\n",
       "      <td>Lakshadwe</td>\n",
       "      <td>0</td>\n",
       "      <td>0</td>\n",
       "      <td>0</td>\n",
       "      <td>0</td>\n",
       "    </tr>\n",
       "  </tbody>\n",
       "</table>\n",
       "</div>"
      ],
      "text/plain": [
       "                        State    Cases  Active Recovered Deaths\n",
       "0                   Maharasht  1683775  125672   1514079  44024\n",
       "1                Andhra Prade   825966   23668    795592   6706\n",
       "2                     Karnata   827064   50611    765261  11192\n",
       "3                           G    43768    2244     40915    609\n",
       "4                    Tamil Na   727026   20994    694880  11152\n",
       "5                        Kera   440130   89783    348835   1512\n",
       "6                  Chhattisga   188813   22126    164537   2150\n",
       "7                     Telanga   240970   17630    221992   1348\n",
       "8                        Odis   291825   12930    277564   1331\n",
       "9                Madhya Prade   172082    8538    160586   2958\n",
       "10                      Gujar   173642   12811    157110   3721\n",
       "11                    Rajasth   198747   15255    181575   1917\n",
       "12                      Harya   168880   12634    154451   1795\n",
       "13                Uttar Prade   483832   23323    453458   7051\n",
       "14                        Del   392370   34173    351635   6562\n",
       "15                        Ass   206517    8802    196784    931\n",
       "16                       Sikk     3958     234      3651     73\n",
       "17                        Bih   216707    6966    208644   1097\n",
       "18                  West Beng   377651   36761    333990   6900\n",
       "19  Andaman And Nicobar Islan     4340     168      4112     60\n",
       "20                   Puducher    35109    3169     31345    595\n",
       "21            Arunachal Prade    14881    1771     13073     37\n",
       "22                     Nagala     9075    1501      7535     39\n",
       "23       Dadra And Nagar Have     3255      34      3219      2\n",
       "24                    Jharkha   102087    5229     95973    885\n",
       "25                      Tripu    30852    1270     29234    348\n",
       "26                       Lada     6287     583      5629     75\n",
       "27            Jammu And Kashm    95325    6326     87517   1482\n",
       "28             Himachal Prade    22264    2973     18965    326\n",
       "29                       Punj   133975    4195    125566   4214\n",
       "30                  Uttarakha    62550    3914     57609   1027\n",
       "31                      Manip    18750    3514     15065    171\n",
       "32                   Chandiga    14476     618     13632    226\n",
       "33                    Meghala     9607    1055      8462     90\n",
       "34                      Mizor     2757     433      2323      1\n",
       "35                  Lakshadwe        0       0         0      0"
      ]
     },
     "execution_count": 32,
     "metadata": {},
     "output_type": "execute_result"
    }
   ],
   "source": [
    "data"
   ]
  },
  {
   "cell_type": "code",
   "execution_count": null,
   "metadata": {},
   "outputs": [],
   "source": []
  }
 ],
 "metadata": {
  "kernelspec": {
   "display_name": "Python 3",
   "language": "python",
   "name": "python3"
  },
  "language_info": {
   "codemirror_mode": {
    "name": "ipython",
    "version": 3
   },
   "file_extension": ".py",
   "mimetype": "text/x-python",
   "name": "python",
   "nbconvert_exporter": "python",
   "pygments_lexer": "ipython3",
   "version": "3.7.4"
  }
 },
 "nbformat": 4,
 "nbformat_minor": 2
}
